{
 "cells": [
  {
   "cell_type": "markdown",
   "metadata": {},
   "source": [
    "# Deep Learning &mdash; Assignment 5"
   ]
  },
  {
   "cell_type": "markdown",
   "metadata": {},
   "source": [
    "Fifth assignment for the 2023 Deep Learning course (NWI-IMC070) of the Radboud University."
   ]
  },
  {
   "cell_type": "markdown",
   "metadata": {},
   "source": [
    "-----\n",
    "\n",
    "**Names:**\n",
    "Daan Brugmans, Maximilian Pohl\n",
    "\n",
    "**Group:**\n",
    "31\n",
    "\n",
    "-----"
   ]
  },
  {
   "cell_type": "markdown",
   "metadata": {},
   "source": [
    "**Instructions:**\n",
    "* Fill in your names and the name of your group.\n",
    "* Answer the questions and complete the code where necessary.\n",
    "* Keep your answers brief, one or two sentences is usually enough.\n",
    "* Re-run the whole notebook before you submit your work.\n",
    "* Save the notebook as a PDF and submit that in Brightspace together with the `.ipynb` notebook file.\n",
    "* The easiest way to make a PDF of your notebook is via File > Print Preview and then use your browser's print option to print to PDF."
   ]
  },
  {
   "cell_type": "markdown",
   "metadata": {},
   "source": [
    "## Objectives\n",
    "\n",
    "In this assignment you will\n",
    "1. Construct a PyTorch `DataSet`\n",
    "1. Train and modify a transformer network\n",
    "1. Experiment with a translation dataset"
   ]
  },
  {
   "cell_type": "markdown",
   "metadata": {},
   "source": [
    "## Required software\n",
    "\n",
    "If you haven't done so already, you will need to install the following additional libraries:\n",
    "* `torch` for PyTorch,\n",
    "* `d2l`, the library that comes with the [Dive into deep learning](https://d2l.ai) book.  \n",
    "  Note: if you get errors, make sure the right version of the d2l library is installed:\n",
    "  `pip install d2l==1.0.0a1.post0`\n",
    "\n",
    "All libraries can be installed with `pip install`."
   ]
  },
  {
   "cell_type": "code",
   "execution_count": 3,
   "metadata": {
    "ExecuteTime": {
     "end_time": "2023-10-07T07:38:12.016925585Z",
     "start_time": "2023-10-07T07:38:11.048194083Z"
    }
   },
   "outputs": [],
   "source": [
    "%matplotlib inline\n",
    "from d2l import torch as d2l\n",
    "import math\n",
    "from random import Random\n",
    "from typing import List\n",
    "import numpy as np\n",
    "import torch\n",
    "from torch import nn\n",
    "from torch.utils.data import (IterableDataset, DataLoader)\n",
    "import matplotlib.pyplot as plt\n",
    "\n",
    "device = d2l.try_gpu()"
   ]
  },
  {
   "cell_type": "markdown",
   "metadata": {},
   "source": [
    "## 5.1 Learning to calculate (5 points)\n",
    "\n",
    "In this assignment we are going to train a neural network to do mathematics.\n",
    "When communicating between humans, mathematics is expressed with words and formulas.\n",
    "The simplest of these are formulas with a numeric answer. For example, we might ask what is `100+50`, to which the answer is `150`.\n",
    "\n",
    "To teach a computer how to do this task, we are going to need a dataset.\n",
    "\n",
    "Below is a function that generates a random formula. Study it, and see if you understand its parameters."
   ]
  },
  {
   "cell_type": "code",
   "execution_count": 4,
   "metadata": {
    "ExecuteTime": {
     "end_time": "2023-10-07T07:38:12.110095827Z",
     "start_time": "2023-10-07T07:38:11.057062062Z"
    }
   },
   "outputs": [],
   "source": [
    "def random_integer(length: int, signed: bool = True, rng: Random = Random()):\n",
    "    max = math.pow(10, length)\n",
    "    min = -max if signed else 0\n",
    "    return rng.randint(min, max)\n",
    "\n",
    "\n",
    "def random_formula(complexity: int, signed: bool = True, rng: Random = Random()):\n",
    "    \"\"\"\n",
    "    Generate a random formula of the form \"a+b\" or \"a-b\".\n",
    "    complexity is the maximum number of digits in the numbers.\n",
    "    \"\"\"\n",
    "    a = random_integer(complexity, signed, rng)\n",
    "    b = random_integer(complexity, False, rng)\n",
    "    is_addition = not signed or rng.choice([False, True])\n",
    "    if is_addition:\n",
    "        return (f\"{a}+{b}\", str(a + b))\n",
    "    else:\n",
    "        return (f\"{a}-{b}\", str(a - b))"
   ]
  },
  {
   "cell_type": "code",
   "execution_count": 5,
   "metadata": {
    "ExecuteTime": {
     "end_time": "2023-10-07T07:38:12.119233798Z",
     "start_time": "2023-10-07T07:38:11.062317105Z"
    }
   },
   "outputs": [
    {
     "data": {
      "text/plain": "('649+864', '1513')"
     },
     "execution_count": 5,
     "metadata": {},
     "output_type": "execute_result"
    }
   ],
   "source": [
    "seed = 123456\n",
    "random_formula(3, rng=Random(seed))"
   ]
  },
  {
   "cell_type": "markdown",
   "metadata": {},
   "source": [
    "Note that the `rng` argument allows us to reproduce the same random numbers, which you can verify by running the code below multiple times. But if you change the seed to `None` then the random generator is initialized differently each time."
   ]
  },
  {
   "cell_type": "code",
   "execution_count": 6,
   "metadata": {
    "ExecuteTime": {
     "end_time": "2023-10-07T07:38:12.925285319Z",
     "start_time": "2023-10-07T07:38:11.074037329Z"
    }
   },
   "outputs": [
    {
     "name": "stdout",
     "output_type": "stream",
     "text": [
      "649+864 = 1513\n",
      "-940-819 = -1759\n",
      "954-2 = 952\n",
      "-896-274 = -1170\n",
      "-762-954 = -1716\n"
     ]
    }
   ],
   "source": [
    "def random_formulas(complexity, signed, count, seed):\n",
    "    \"\"\"\n",
    "    Iterator that yields the given count of random formulas\n",
    "    \"\"\"\n",
    "    rng = Random(seed)\n",
    "    for i in range(count):\n",
    "        yield random_formula(complexity, signed, rng=rng)\n",
    "\n",
    "\n",
    "for q, a in random_formulas(3, True, 5, seed):\n",
    "    print(f'{q} = {a}')"
   ]
  },
  {
   "cell_type": "markdown",
   "metadata": {},
   "source": [
    "...We are going to treat these expressions as sequences of tokens, where each character is a token. In addition we will need tokens to denote begin-of-sequence and end-of-sequence, as well as padding, for which we will use `'<bos>'`, `'<eos>'`, and `'<pad>'` respectively, as is done in the book.\n",
    "\n",
    "[d2l chapter 9.2](https://d2l.ai/chapter_recurrent-neural-networks/text-sequence.html) includes an example of tokenizing a string, and it also defines a `Vocab` class that handles converting the tokens to numbers.\n",
    "\n",
    "For this dataset we know beforehand what the vocabulary will be.\n",
    "\n",
    "### Creating a vocabulary\n",
    "\n",
    "**(a) What are the tokens in this dataset? Complete the code below.<span style=\"float:right\"> (1 point)</span>**"
   ]
  },
  {
   "cell_type": "code",
   "execution_count": 7,
   "metadata": {
    "ExecuteTime": {
     "end_time": "2023-10-07T07:38:13.000112582Z",
     "start_time": "2023-10-07T07:38:11.083200571Z"
    }
   },
   "outputs": [],
   "source": [
    "vocab = d2l.Vocab(['1', '2', '3', '4', '5', '6', '7', '8', '9', '0', '+', '-'],\n",
    "                  reserved_tokens=['<eos>', '<pad>', '<bos>'])"
   ]
  },
  {
   "cell_type": "markdown",
   "metadata": {},
   "source": [
    "We can print the vocabulary to double check that it makes sense:"
   ]
  },
  {
   "cell_type": "code",
   "execution_count": 8,
   "metadata": {
    "ExecuteTime": {
     "end_time": "2023-10-07T07:38:13.074528680Z",
     "start_time": "2023-10-07T07:38:11.101870608Z"
    }
   },
   "outputs": [
    {
     "name": "stdout",
     "output_type": "stream",
     "text": [
      "Vocabulary size: 16\n",
      "Vocabulary: ['+', '-', '0', '1', '2', '3', '4', '5', '6', '7', '8', '9', '<bos>', '<eos>', '<pad>', '<unk>']\n"
     ]
    }
   ],
   "source": [
    "print('Vocabulary size:', len(vocab))\n",
    "print('Vocabulary:', vocab.idx_to_token)"
   ]
  },
  {
   "cell_type": "markdown",
   "metadata": {},
   "source": [
    "Note that the d2l Vocab class includes a `'<unk>'` token, for handling unknown tokens in the input."
   ]
  },
  {
   "cell_type": "markdown",
   "metadata": {},
   "source": [
    "We are now ready to tokenize and encode formula.\n",
    "\n",
    "**(b) Complete the code below.<span style=\"float:right\"> (1 point)</span>**"
   ]
  },
  {
   "cell_type": "code",
   "execution_count": 9,
   "metadata": {
    "ExecuteTime": {
     "end_time": "2023-10-07T07:38:13.193824027Z",
     "start_time": "2023-10-07T07:38:11.110494380Z"
    }
   },
   "outputs": [],
   "source": [
    "def tokenize_and_encode(string: str, vocab=vocab) -> List[int]:\n",
    "    chars = [*string]\n",
    "    ret = vocab[chars]\n",
    "    ret.append(vocab['<eos>'])\n",
    "    return ret"
   ]
  },
  {
   "cell_type": "markdown",
   "metadata": {},
   "source": [
    "Let's test it on a random formula:"
   ]
  },
  {
   "cell_type": "code",
   "execution_count": 10,
   "metadata": {
    "ExecuteTime": {
     "end_time": "2023-10-07T07:38:13.487070987Z",
     "start_time": "2023-10-07T07:38:11.120223258Z"
    }
   },
   "outputs": [
    {
     "name": "stdout",
     "output_type": "stream",
     "text": [
      "The question 649+864 and answer 1513\n",
      "are encoded as [8, 6, 11, 0, 10, 8, 6, 13] and [3, 7, 3, 5, 13]\n"
     ]
    }
   ],
   "source": [
    "q, a = random_formula(3, rng=Random(seed))\n",
    "print('The question', q, 'and answer', a)\n",
    "print('are encoded as', tokenize_and_encode(q), 'and', tokenize_and_encode(a))\n",
    "\n",
    "# Check tokenize_and_encode\n",
    "assert ''.join(vocab.to_tokens(tokenize_and_encode(q))) == q + '<eos>'\n",
    "assert len(tokenize_and_encode(q)) == len(q) + 1"
   ]
  },
  {
   "cell_type": "markdown",
   "metadata": {},
   "source": [
    "### Padding and trimming\n",
    "\n",
    "Next, to be able to work with a whole dataset of these encoded sequences, they all need to be the same length.\n",
    "\n",
    "**(c) Implement the function below that pads or trims the encoded token sequence as needed.<span style=\"float:right\"> (1 point)</span>**\n",
    "\n",
    "Hint: see [d2l section 10.5.3](http://d2l.ai/chapter_recurrent-modern/machine-translation-and-dataset.html#loading-sequences-of-fixed-length) for a very similar function."
   ]
  },
  {
   "cell_type": "code",
   "execution_count": 11,
   "metadata": {
    "ExecuteTime": {
     "end_time": "2023-10-07T07:38:13.590030625Z",
     "start_time": "2023-10-07T07:38:11.122503691Z"
    }
   },
   "outputs": [],
   "source": [
    "def pad_or_trim(tokens: List[int], target_length: int, vocab=vocab):\n",
    "    if len(tokens) > target_length:\n",
    "        return tokens[:target_length]\n",
    "    else:\n",
    "        pad_token = vocab['<pad>']\n",
    "        for _ in range(target_length - len(tokens)):\n",
    "            tokens.append(pad_token)\n",
    "        return tokens"
   ]
  },
  {
   "cell_type": "code",
   "execution_count": 12,
   "metadata": {
    "ExecuteTime": {
     "end_time": "2023-10-07T07:38:13.593142064Z",
     "start_time": "2023-10-07T07:38:11.128660187Z"
    }
   },
   "outputs": [
    {
     "data": {
      "text/plain": "[8, 6, 11, 0, 10, 8, 6, 13, 14, 14]"
     },
     "execution_count": 12,
     "metadata": {},
     "output_type": "execute_result"
    }
   ],
   "source": [
    "# pad or trim q to get a sequence of 10 tokens\n",
    "pad_or_trim(tokenize_and_encode(q), 10)"
   ]
  },
  {
   "cell_type": "code",
   "execution_count": 13,
   "metadata": {
    "ExecuteTime": {
     "end_time": "2023-10-07T07:38:13.678248372Z",
     "start_time": "2023-10-07T07:38:11.128961156Z"
    }
   },
   "outputs": [],
   "source": [
    "# Check pad_or_trim\n",
    "assert len(pad_or_trim([1, 2, 3, 4, 5], 10)) == 10\n",
    "assert len(pad_or_trim(list(range(20)), 10)) == 10\n",
    "assert vocab.to_tokens(pad_or_trim([1, 2, 3, 4, 5], 10)[5:]) == ['<pad>', '<pad>', '<pad>', '<pad>', '<pad>'], \\\n",
    "    f\"Incorrect padding tokens, found {vocab.to_tokens(pad_or_trim([1, 2, 3, 4, 5], 10)[5:])}\""
   ]
  },
  {
   "cell_type": "markdown",
   "metadata": {},
   "source": [
    "### Translating tokens\n",
    "\n",
    "We can use `vocab.to_tokens` to convert the encoded token sequence back to something more readable:"
   ]
  },
  {
   "cell_type": "code",
   "execution_count": 14,
   "metadata": {
    "ExecuteTime": {
     "end_time": "2023-10-07T07:38:13.706625370Z",
     "start_time": "2023-10-07T07:38:11.139043112Z"
    }
   },
   "outputs": [
    {
     "data": {
      "text/plain": "['6', '4', '9', '+', '8', '6', '4', '<eos>', '<pad>', '<pad>']"
     },
     "execution_count": 14,
     "metadata": {},
     "output_type": "execute_result"
    }
   ],
   "source": [
    "vocab.to_tokens(pad_or_trim(tokenize_and_encode(q), 10))"
   ]
  },
  {
   "cell_type": "markdown",
   "metadata": {},
   "source": [
    "For convenience, we define the `decode_tokens` function to convert entire lists or tensors:"
   ]
  },
  {
   "cell_type": "code",
   "execution_count": 15,
   "metadata": {
    "ExecuteTime": {
     "end_time": "2023-10-07T07:38:13.806677411Z",
     "start_time": "2023-10-07T07:38:11.148329250Z"
    }
   },
   "outputs": [
    {
     "name": "stdout",
     "output_type": "stream",
     "text": [
      "[['5' '1' '3' '+' '1' '3' '2' '3' '<eos>' '<pad>']\n",
      " ['4' '1' '2' '+' '4' '2' '<eos>' '<pad>' '<pad>' '<pad>']]\n"
     ]
    }
   ],
   "source": [
    "def decode_tokens(t, vocab=vocab):\n",
    "    # convert a list, tensor, or array of encoded tokens\n",
    "    if isinstance(t, torch.Tensor):\n",
    "        t = t.detach().cpu().numpy()\n",
    "    t = np.asarray(t)\n",
    "    return np.asarray(vocab.to_tokens(list(t.flatten()))).reshape(*t.shape)\n",
    "\n",
    "\n",
    "# convert all tokens at once\n",
    "print(decode_tokens([pad_or_trim(tokenize_and_encode('513+1323'), 10),\n",
    "                     pad_or_trim(tokenize_and_encode('412+42'), 10)]))"
   ]
  },
  {
   "cell_type": "markdown",
   "metadata": {},
   "source": [
    "### Creating a dataset\n",
    "\n",
    "The most convenient way to use a data generating function for training a neural network is to wrap it in a PyTorch `Dataset`. In this case, we will use an [IterableDataset](https://pytorch.org/docs/stable/data.html#torch.utils.data.IterableDataset), which can be used as an iterator to walk over the samples in the dataset.\n",
    "\n",
    "**(d) Complete the code below.<span style=\"float:right\"> (1 point)</span>**"
   ]
  },
  {
   "cell_type": "code",
   "execution_count": 16,
   "metadata": {
    "ExecuteTime": {
     "end_time": "2023-10-07T07:38:13.918913813Z",
     "start_time": "2023-10-07T07:38:11.156744021Z"
    }
   },
   "outputs": [],
   "source": [
    "class FormulaDataset(IterableDataset):\n",
    "    def __init__(self, complexity, signed, count, seed=None, vocab=vocab):\n",
    "        self.seed = seed\n",
    "        self.complexity = complexity\n",
    "        self.signed = signed\n",
    "        self.count = count\n",
    "        self.vocab = vocab\n",
    "        self.max_question_length = 2 * complexity + 3\n",
    "        self.max_answer_length = complexity + 2\n",
    "\n",
    "    def __iter__(self):\n",
    "        formulas = random_formulas(self.complexity, self.signed, self.count, self.seed)\n",
    "        for f in formulas:\n",
    "            x_encoded = tokenize_and_encode(f[0], self.vocab)\n",
    "            y_encoded = tokenize_and_encode(f[1], self.vocab)\n",
    "            x_padded = pad_or_trim(x_encoded, self.max_question_length, self.vocab)\n",
    "            y_padded = pad_or_trim(y_encoded, self.max_answer_length, self.vocab)\n",
    "            yield torch.tensor(x_padded), torch.tensor(y_padded)\n",
    "\n",
    "    # Complete the class definition.\n",
    "    #       See the documentation for IterableDataset for examples.\n",
    "    #       Make sure that the values yielded by the iterator are pairs of torch tensors.\n",
    "    #       To create a repeatable dataset, always start with the same random seed."
   ]
  },
  {
   "cell_type": "markdown",
   "metadata": {},
   "source": [
    "**(e) Define a training set with 10000 formulas and a validation set with 5000 formulas, both with complexity 3.<span style=\"float:right\"> (1 point)</span>**\n",
    "\n",
    "Note: make sure that the training and validation set are different."
   ]
  },
  {
   "cell_type": "code",
   "execution_count": 17,
   "metadata": {
    "ExecuteTime": {
     "end_time": "2023-10-07T07:38:14.096550157Z",
     "start_time": "2023-10-07T07:38:11.165003017Z"
    }
   },
   "outputs": [],
   "source": [
    "complexity = 3\n",
    "signed = True\n",
    "train_data = FormulaDataset(3, True, 10000, seed, vocab)\n",
    "val_data = FormulaDataset(3, True, 5000, seed + 1, vocab)"
   ]
  },
  {
   "cell_type": "markdown",
   "metadata": {},
   "source": [
    "As usual, we wrap each dataset in a `DataLoader` to create minibatches."
   ]
  },
  {
   "cell_type": "code",
   "execution_count": 18,
   "metadata": {
    "ExecuteTime": {
     "end_time": "2023-10-07T07:38:14.184859756Z",
     "start_time": "2023-10-07T07:38:11.167015697Z"
    }
   },
   "outputs": [],
   "source": [
    "# Define data loaders\n",
    "batch_size = 125\n",
    "data_loaders = {\n",
    "    'train': torch.utils.data.DataLoader(train_data, batch_size=batch_size),\n",
    "    'val': torch.utils.data.DataLoader(val_data, batch_size=batch_size),\n",
    "}"
   ]
  },
  {
   "cell_type": "code",
   "execution_count": 19,
   "metadata": {
    "ExecuteTime": {
     "end_time": "2023-10-07T07:38:16.257431541Z",
     "start_time": "2023-10-07T07:38:11.184258189Z"
    }
   },
   "outputs": [],
   "source": [
    "# The code below checks that the datasets are defined correctly\n",
    "train_loader = data_loaders['train']\n",
    "val_loader = data_loaders['val']\n",
    "\n",
    "from typing import Tuple\n",
    "from typing_extensions import assert_type\n",
    "\n",
    "for (name, loader), expected_size in zip(data_loaders.items(), [10000, 5000]):\n",
    "    first_batch = next(iter(loader))\n",
    "    assert len(first_batch) == 2, \\\n",
    "        f\"The {name} dataset should yield (question, answer) pairs when iterated over.\"\n",
    "    assert torch.is_tensor(first_batch[0]), \\\n",
    "        f\"The questions in the {name} dataset should be torch.tensors\"\n",
    "    assert tuple(first_batch[0].shape) == (batch_size, 2 * complexity + 3), \\\n",
    "        f\"The questions in the {name} dataset should be of size (batch_size, max_question_length), i.e. {batch_size, 2 * complexity + 3}, found {tuple(first_batch[0].shape)}\"\n",
    "    assert first_batch[0].dtype in [torch.int32, torch.int64], \\\n",
    "        f\"The questions in the {name} dataset should be encoded as integers, found {first_batch[0].dtype}\"\n",
    "    assert torch.equal(next(iter(loader))[0], next(iter(loader))[0]), \\\n",
    "        f\"The {name} dataset should be deterministic, it should produce the same data each time\"\n",
    "    assert all([len(batch[0]) == batch_size for batch in iter(loader)]), \\\n",
    "        f\"Batches should all have the right size. Perhaps the batch size does not evenly divide the dataset size?\"\n",
    "    assert sum([len(batch[0]) for batch in iter(loader)]) == expected_size, \\\n",
    "        f\"{name} dataset does not have the right size, expected {expected_size}, found {sum([len(batch[0]) for batch in iter(loader)])}.\"\n",
    "assert not torch.equal(next(iter(train_loader))[0], next(iter(val_loader))[0]), \\\n",
    "    \"The training data and validation data should not be the same\""
   ]
  },
  {
   "cell_type": "markdown",
   "metadata": {},
   "source": [
    "## 5.2 Transformer inputs (10 points)\n",
    "\n",
    "There is a detailed description of the transformer model in [chapter 11 of the d2l book](http://d2l.ai/chapter_attention-mechanisms-and-transformers/index.html). We will not use most the code from the book, and instead use [PyTorch's built-in Transformer layers](https://pytorch.org/docs/stable/nn.html#transformer-layers).\n",
    "\n",
    "However, some details we still need to implement ourselves."
   ]
  },
  {
   "cell_type": "markdown",
   "metadata": {},
   "source": [
    "### Masks\n",
    "\n",
    "Training a transformer uses masked self-attention, so we need some masks. Here are two functions that make these masks."
   ]
  },
  {
   "cell_type": "code",
   "execution_count": 20,
   "metadata": {
    "ExecuteTime": {
     "end_time": "2023-10-07T07:38:16.380480739Z",
     "start_time": "2023-10-07T07:38:11.705745623Z"
    }
   },
   "outputs": [],
   "source": [
    "def generate_square_subsequent_mask(size, device=device):\n",
    "    \"\"\"\n",
    "    Mask that indicates that tokens at a position are not allowed to attend to\n",
    "    tokens in subsequent positions.\n",
    "    \"\"\"\n",
    "    mask = (torch.tril(torch.ones((size, size), device=device))) == 0\n",
    "    return mask\n",
    "\n",
    "\n",
    "def generate_padding_mask(tokens, padding_token):\n",
    "    \"\"\"\n",
    "    Mask that indicates which tokens should be ignored because they are padding.\n",
    "    \"\"\"\n",
    "    return tokens == torch.tensor(padding_token)"
   ]
  },
  {
   "cell_type": "markdown",
   "metadata": {},
   "source": [
    "**(a) Generate a padding mask for a random encoded token string.<span style=\"float:right\"> (1 point)</span>**\n",
    "\n",
    "Hint: make sure that `tokens` is a torch.tensor."
   ]
  },
  {
   "cell_type": "code",
   "execution_count": 21,
   "metadata": {
    "ExecuteTime": {
     "end_time": "2023-10-07T07:38:16.381086206Z",
     "start_time": "2023-10-07T07:38:11.705954771Z"
    }
   },
   "outputs": [
    {
     "name": "stdout",
     "output_type": "stream",
     "text": [
      "tensor([ 8,  6, 11,  0, 10,  8,  6, 13, 14, 14])\n",
      "['6' '4' '9' '+' '8' '6' '4' '<eos>' '<pad>' '<pad>']\n",
      "tensor([False, False, False, False, False, False, False, False,  True,  True])\n"
     ]
    }
   ],
   "source": [
    "q, a = random_formula(3, rng=Random(seed))\n",
    "tokens = torch.tensor(pad_or_trim(tokenize_and_encode(q, vocab), 10))\n",
    "padding_mask = generate_padding_mask(tokens, vocab['<pad>'])\n",
    "print(tokens)\n",
    "print(decode_tokens(tokens))\n",
    "print(padding_mask)"
   ]
  },
  {
   "cell_type": "code",
   "execution_count": 22,
   "metadata": {
    "ExecuteTime": {
     "end_time": "2023-10-07T07:38:16.381345871Z",
     "start_time": "2023-10-07T07:38:11.706072714Z"
    }
   },
   "outputs": [],
   "source": [
    "# More tests\n",
    "assert list(generate_padding_mask(torch.tensor(pad_or_trim(tokenize_and_encode(\"1+1\"), 8)), vocab['<pad>'])) == [\n",
    "    False] * 4 + [True] * 4, \"Something is wrong with generate_padding_mask\""
   ]
  },
  {
   "cell_type": "markdown",
   "metadata": {},
   "source": [
    "**(b) How will this mask be used by a transformer?<span style=\"float:right\"> (1 point)</span>**"
   ]
  },
  {
   "cell_type": "markdown",
   "metadata": {},
   "source": [
    "The masks make sure the transformer network does not put its attention to input that it should not use for training, e.g., because it contains the answer. This would happen, because we use self-attention in our model."
   ]
  },
  {
   "cell_type": "markdown",
   "metadata": {},
   "source": [
    "The code below takes the first batch of data from the training set, and it generates a shifted version of the target values."
   ]
  },
  {
   "cell_type": "code",
   "execution_count": 23,
   "metadata": {
    "ExecuteTime": {
     "end_time": "2023-10-07T07:38:16.381805340Z",
     "start_time": "2023-10-07T07:38:11.706150881Z"
    }
   },
   "outputs": [
    {
     "name": "stdout",
     "output_type": "stream",
     "text": [
      "[['1' '5' '1' '3' '<eos>']\n",
      " ['-' '1' '7' '5' '9']\n",
      " ['9' '5' '2' '<eos>' '<pad>']\n",
      " ['-' '1' '1' '7' '0']\n",
      " ['-' '1' '7' '1' '6']]\n",
      "[['<bos>' '1' '5' '1' '3']\n",
      " ['<bos>' '-' '1' '7' '5']\n",
      " ['<bos>' '9' '5' '2' '<eos>']\n",
      " ['<bos>' '-' '1' '1' '7']\n",
      " ['<bos>' '-' '1' '7' '1']]\n"
     ]
    }
   ],
   "source": [
    "x, y = next(iter(train_loader))\n",
    "bos = torch.tensor(vocab['<bos>']).expand(y.shape[0], 1)\n",
    "y_prev = torch.cat((bos, y[:, :-1]), axis=1)\n",
    "\n",
    "# print the first five samples\n",
    "print(decode_tokens(y)[:5])\n",
    "print(decode_tokens(y_prev)[:5])"
   ]
  },
  {
   "cell_type": "markdown",
   "metadata": {},
   "source": [
    "**(c) Look at the values for the example above. What is `y_prev` used for during training of a transformer model?<span style=\"float:right\"> (1 point)</span>**"
   ]
  },
  {
   "cell_type": "markdown",
   "metadata": {},
   "source": [
    "`y_prev` will be used as queries, as we use self-attention in our model. `y` will then serve as the correct answers to the queries."
   ]
  },
  {
   "cell_type": "markdown",
   "metadata": {},
   "source": [
    "**(d) Why do some rows of `y_prev` end in `'<eos>'`, but not all? Is this a problem?<span style=\"float:right\"> (1 point)</span>** "
   ]
  },
  {
   "cell_type": "markdown",
   "metadata": {},
   "source": [
    "Because some sequences were already full, shifting it by one will \"throw out\" the last, i.e., the `<eos>` token. This is not a problem, as we only use `y_prev` as queries and not as values. Therefore, the only thing we would predict after a `<eos>` token would always be the `<pad>` token, which we are not interested in, anyway. What is interesting, though, is to predict when a sentence ends, which we can still verify to be correct as `y` keeps the correct answers."
   ]
  },
  {
   "cell_type": "markdown",
   "metadata": {},
   "source": [
    "The code below illustrates what the output of `generate_square_subsequent_mask` looks like."
   ]
  },
  {
   "cell_type": "code",
   "execution_count": 24,
   "metadata": {
    "ExecuteTime": {
     "end_time": "2023-10-07T07:38:16.573249651Z",
     "start_time": "2023-10-07T07:38:11.714736489Z"
    }
   },
   "outputs": [
    {
     "name": "stdout",
     "output_type": "stream",
     "text": [
      "torch.Size([5, 5])\n",
      "tensor([[False,  True,  True,  True,  True],\n",
      "        [False, False,  True,  True,  True],\n",
      "        [False, False, False,  True,  True],\n",
      "        [False, False, False, False,  True],\n",
      "        [False, False, False, False, False]], device='cuda:0')\n"
     ]
    }
   ],
   "source": [
    "square_subsequent_mask = generate_square_subsequent_mask(y.shape[1])\n",
    "\n",
    "print(square_subsequent_mask.shape)\n",
    "print(square_subsequent_mask)"
   ]
  },
  {
   "cell_type": "markdown",
   "metadata": {},
   "source": [
    "**(e) How and why should this mask be used? State your answer in terms of `x`,  `y` and/or `y_prev`.<span style=\"float:right\"> (1 point)</span>**"
   ]
  },
  {
   "cell_type": "markdown",
   "metadata": {},
   "source": [
    "TODO: Your answer here.\n",
    "Using the square_subsequent_mask to mask `y` we make sure that during the learning, the network cannot simply look at the correct answers by looking one value forward. For example, for the first query from `y_prev`, i.e. `<bos>` we do not want the network to simply look at the first value of `y` as this would be the correct value to the query. TODO that's strange: we do allow to see the first value"
   ]
  },
  {
   "cell_type": "markdown",
   "metadata": {},
   "source": [
    "**(f) Give an example where it could make sense to use a different mask in a transformer network, instead of the `square_subsequent_mask`?<span style=\"float:right\"> (1 point)</span>**"
   ]
  },
  {
   "cell_type": "markdown",
   "metadata": {},
   "source": [
    "TODO: Your answer here.\n",
    "For example, if you want to recover partially lost data of a sequence, i.e., if there are scratches in a CD. Here, we would allow looking at data that is a bit away from the current query in both directions, i.e., we would need a mask that does not allow to look at data close to the query."
   ]
  },
  {
   "cell_type": "markdown",
   "metadata": {},
   "source": [
    "### Embedding\n",
    "\n",
    "Our discrete vocabulary is not suitable as the input for a transformer. We need an embedding function to map our input vocabulary to a continuous, high-dimensional space.\n",
    "\n",
    "We will use the `torch.nn.Embedding` class to for this. As you can read in the [documentation](https://pytorch.org/docs/stable/generated/torch.nn.Embedding.html#torch.nn.Embedding), this class maps each token in our vocabulary to a specific point in embedding space, its embedding vector. We will use this embedding vector as the input features for the next layer of our model.\n",
    "\n",
    "The parameters of the embedding are trainable: the embedding vector of each token is optimized along with the rest of the network."
   ]
  },
  {
   "cell_type": "markdown",
   "metadata": {},
   "source": [
    "**(g) Define an embedding that maps our vocabulary to a 5-dimensional space.<span style=\"float:right\"> (1 point)</span>**"
   ]
  },
  {
   "cell_type": "code",
   "execution_count": 25,
   "metadata": {
    "ExecuteTime": {
     "end_time": "2023-10-07T07:38:16.573791941Z",
     "start_time": "2023-10-07T07:38:12.151569362Z"
    }
   },
   "outputs": [
    {
     "name": "stdout",
     "output_type": "stream",
     "text": [
      "Embedding(16, 5)\n"
     ]
    }
   ],
   "source": [
    "embedding = nn.Embedding(len(vocab), 5)\n",
    "print(embedding)"
   ]
  },
  {
   "cell_type": "markdown",
   "metadata": {},
   "source": [
    "Let's apply the embedding to some sequences from our training set."
   ]
  },
  {
   "cell_type": "code",
   "execution_count": 26,
   "metadata": {
    "ExecuteTime": {
     "end_time": "2023-10-07T07:38:16.574592372Z",
     "start_time": "2023-10-07T07:38:12.193830395Z"
    }
   },
   "outputs": [
    {
     "name": "stdout",
     "output_type": "stream",
     "text": [
      "tensor([[ 8,  6, 11,  0, 10,  8,  6, 13, 14],\n",
      "        [ 1, 11,  6,  2,  1, 10,  3, 11, 13],\n",
      "        [11,  7,  6,  1,  4, 13, 14, 14, 14]])\n",
      "tensor([[[-0.5237,  1.1865,  1.2105, -0.1666,  1.1700],\n",
      "         [ 0.4198, -0.0654, -1.2098, -3.2962,  1.6066],\n",
      "         [-0.0471,  0.1600,  0.6430,  0.2166, -0.8999],\n",
      "         [ 0.0181,  0.4698, -1.2976, -0.0404, -0.1675],\n",
      "         [ 0.9952, -0.6481,  0.7470,  0.6449,  0.9688],\n",
      "         [-0.5237,  1.1865,  1.2105, -0.1666,  1.1700],\n",
      "         [ 0.4198, -0.0654, -1.2098, -3.2962,  1.6066],\n",
      "         [ 1.6018, -0.3809, -0.1700, -0.8595, -0.2675],\n",
      "         [ 1.2111, -0.1501, -1.0183,  1.5149,  1.1340]],\n",
      "\n",
      "        [[ 0.3927,  1.3609,  0.3063, -1.3757,  0.1451],\n",
      "         [-0.0471,  0.1600,  0.6430,  0.2166, -0.8999],\n",
      "         [ 0.4198, -0.0654, -1.2098, -3.2962,  1.6066],\n",
      "         [-2.2086, -0.0210, -0.6733,  0.0386, -0.9046],\n",
      "         [ 0.3927,  1.3609,  0.3063, -1.3757,  0.1451],\n",
      "         [ 0.9952, -0.6481,  0.7470,  0.6449,  0.9688],\n",
      "         [ 0.1151, -0.0423, -1.6868, -0.9937,  0.2997],\n",
      "         [-0.0471,  0.1600,  0.6430,  0.2166, -0.8999],\n",
      "         [ 1.6018, -0.3809, -0.1700, -0.8595, -0.2675]],\n",
      "\n",
      "        [[-0.0471,  0.1600,  0.6430,  0.2166, -0.8999],\n",
      "         [-0.2596,  1.2526,  0.4086,  1.5607, -0.3677],\n",
      "         [ 0.4198, -0.0654, -1.2098, -3.2962,  1.6066],\n",
      "         [ 0.3927,  1.3609,  0.3063, -1.3757,  0.1451],\n",
      "         [-2.0085,  0.2983,  0.9545,  0.6292,  0.3838],\n",
      "         [ 1.6018, -0.3809, -0.1700, -0.8595, -0.2675],\n",
      "         [ 1.2111, -0.1501, -1.0183,  1.5149,  1.1340],\n",
      "         [ 1.2111, -0.1501, -1.0183,  1.5149,  1.1340],\n",
      "         [ 1.2111, -0.1501, -1.0183,  1.5149,  1.1340]]],\n",
      "       grad_fn=<EmbeddingBackward0>)\n",
      "torch.Size([3, 9])\n",
      "torch.Size([3, 9, 5])\n"
     ]
    }
   ],
   "source": [
    "# take the first batch\n",
    "x, y = next(iter(train_loader))\n",
    "# take three samples\n",
    "x = x[:3]\n",
    "# print the shapes\n",
    "print(x)\n",
    "print(embedding(x))\n",
    "print(x.shape)\n",
    "print(embedding(x).shape)"
   ]
  },
  {
   "cell_type": "markdown",
   "metadata": {},
   "source": [
    "**(h) Explain the output shape.<span style=\"float:right\"> (1 point)</span>**"
   ]
  },
  {
   "cell_type": "markdown",
   "metadata": {},
   "source": [
    "The shape of x is the number of equations x number of tokens in each equation.\n",
    "\n",
    "The shape of the embedding adds another dimension of 5 to represent each encoded character of the equation as a vector of five dimensions."
   ]
  },
  {
   "cell_type": "markdown",
   "metadata": {},
   "source": [
    "The size of the embedding vectors, or the dimensionality of the embedding space, does not depend on the number of tokens in our vocabulary. We are free to choose an embedding size that fits our problem.\n",
    "\n",
    "For example, let's try an embedding with 2 dimensions, and plot the initial embedding for the tokens in our vocabulary.\n",
    "\n",
    "**(i) Create an embedding with 2 dimensions and plot the embedding for all tokens.<span style=\"float:right\"> (no points)</span>**"
   ]
  },
  {
   "cell_type": "code",
   "execution_count": 27,
   "metadata": {
    "ExecuteTime": {
     "end_time": "2023-10-07T07:38:16.603879099Z",
     "start_time": "2023-10-07T07:38:12.194042346Z"
    }
   },
   "outputs": [
    {
     "data": {
      "text/plain": "<Figure size 640x480 with 1 Axes>",
      "image/png": "[encoded data removed]"
     },
     "metadata": {},
     "output_type": "display_data"
    }
   ],
   "source": [
    "embedding = nn.Embedding(len(vocab), 2)\n",
    "\n",
    "# embed all tokens of our vocabulary\n",
    "x = torch.arange(len(vocab))\n",
    "emb = embedding(x).detach().cpu().numpy()\n",
    "\n",
    "plt.scatter(emb[:, 0], emb[:, 1]);\n",
    "for i, token in enumerate(vocab.idx_to_token):\n",
    "    plt.annotate(token, (emb[i, 0] + 0.04, emb[i, 1]))"
   ]
  },
  {
   "cell_type": "markdown",
   "metadata": {},
   "source": [
    "As always, we need to balance the complexity of our networks: a larger embedding will increase the number of parameters in our model, but increase the risk of overfitting.\n",
    "\n",
    "**(j) Would this 2-dimensional embedding space be large enough for our problem?<span style=\"float:right\"> (1 point)</span>**"
   ]
  },
  {
   "cell_type": "markdown",
   "metadata": {},
   "source": [
    "TODO: Your answer here.\n",
    "\n",
    "Yes, two dimensions are probably enough, as the space we have to cover is rather small. Especially, there are only a few different meanings in our vocabulary."
   ]
  },
  {
   "cell_type": "markdown",
   "metadata": {},
   "source": [
    "Instead of using an embedding, we could also use a simple one-hot encoding to map the words in the vocabulary to feature vectors. However, practical applications of natural language processing never do this. Why not?\n",
    "\n",
    "**(k) Explain the practical advantage of embeddings over one-hot encoding.<span style=\"float:right\"> (1 point)</span>**"
   ]
  },
  {
   "cell_type": "markdown",
   "metadata": {},
   "source": [
    "TODO: Your answer here.\n",
    "\n",
    "Embeddings are more recourse efficient, as they are encoded as floating point numbers while a one-hot encoding would be a huge vector with the size of the dictionary. This is probably bigger.\n",
    "\n",
    "Additionally, this means that the whole vocabulary needs to be known upfront and cannot be chaned easily afterwards, while you can just add another token into the embedding."
   ]
  },
  {
   "cell_type": "markdown",
   "metadata": {},
   "source": [
    "## 5.3 `torch.nn.Transformer` (8 points)\n",
    "\n",
    "<div style=\"float: left\"><a href=\"https://cs.ru.nl/~gvtulder/vaswani-fig-1-highlight.png\"><img src=\"https://cs.ru.nl/~gvtulder/vaswani-fig-1-highlight.png\" width=\"300\"></a></div>\n",
    "\n",
    "We now have all required inputs for our transformer.\n",
    "\n",
    "Consult the documentation for the [`torch.nn.Transformer`](https://pytorch.org/docs/stable/generated/torch.nn.Transformer.html) class of PyTorch. This class implements a full Transformer as described in [\"Attention Is All You Need\"](https://arxiv.org/pdf/1706.03762.pdf), the paper that introduced this architecture.\n",
    "\n",
    "The `Transformer` class implements the main part of the of the Transformer architecture, shown highlighted in the image on the left (see also Fig. 1 in \"Attention Is All You Need\").\n",
    "\n",
    "For a given input sequence, it applies one or more encoder layers, followed by one or more decoder layers, to compute an output sequence that we can then process further.\n",
    "\n",
    "Because the `Transformer` class takes care of most of the complicated parts of the model, we can concentrate providing the inputs and outputs: the grayed-out areas in the image.\n",
    "\n",
    "Check out the parameters for the `Transformer` class and the inputs and outputs of its `forward` function.\n",
    "<br style=\"clear: both\">"
   ]
  },
  {
   "cell_type": "markdown",
   "metadata": {},
   "source": [
    "**(a) Which parameter of the `Transformer` class should we base on our embedding?<span style=\"float:right\"> (1 point)</span>**"
   ]
  },
  {
   "cell_type": "markdown",
   "metadata": {},
   "source": [
    "TODO: Your answer here.\n",
    "\n",
    "The `d_model` param is equal to the dimensions of the embedding."
   ]
  },
  {
   "cell_type": "markdown",
   "metadata": {},
   "source": [
    "**(b) Given fixed input and output dimensions, which parameters of the `Transformer` can we use to change the complexity of our network?<span style=\"float:right\"> (1 point)</span>**"
   ]
  },
  {
   "cell_type": "markdown",
   "metadata": {},
   "source": [
    "TODO: Your answer here.\n",
    "\n",
    "- nhead\n",
    "- num_encoder_layers\n",
    "- num_decoder_layers\n",
    "- dim_feedforward\n",
    "- bias"
   ]
  },
  {
   "cell_type": "markdown",
   "metadata": {},
   "source": [
    "**(c) When using the `Transformer` class, where should we use the masks that we defined earlier?<span style=\"float:right\"> (1 point)</span>**"
   ]
  },
  {
   "cell_type": "markdown",
   "metadata": {},
   "source": [
    "TODO: Your answer here.\n",
    "\n",
    "We will need both, the padding and the square_subsequent_mask as an input to the `src_maks` of the `forward` function. This will be achieved by using an OR operation per row of the square_subsequent_mask. This achieves that the network can never look ahead and at the same time will not spend any attention on the padding."
   ]
  },
  {
   "cell_type": "markdown",
   "metadata": {},
   "source": [
    "### Building a network"
   ]
  },
  {
   "cell_type": "markdown",
   "metadata": {},
   "source": [
    "**(d) Complete the code for the TransformerNetwork.<span style=\"float:right\"> (5 points)</span>**\n",
    "\n",
    "Construct a network with the following architecture (see the image in the previous section for an overview):\n",
    "1. An embedding layer that embeds the input tokens into a space of size `dim_hidden`.\n",
    "2. A dropout layer (not shown in the image).\n",
    "3. A [Transformer](https://pytorch.org/docs/stable/generated/torch.nn.Transformer.html) with the specified parameters (`dim_hidden`, `num_heads`, `num_layers`, `dim_feedforward`, and `dropout`).<br>Note: you will need to pass `batch_first=True`, to indicate that the first dimension runs over the batch and not over the sequence.\n",
    "4. A final linear prediction layer that takes the output of the transformer to `dim_vocab` possible classes.\n",
    "\n",
    "Don't worry about positional encoding for now, we will add that later.\n",
    "\n",
    "The `forward` function should generate the appropriate masks and combine the layers defined in `__init__` to compute the output."
   ]
  },
  {
   "cell_type": "code",
   "execution_count": 28,
   "metadata": {
    "ExecuteTime": {
     "end_time": "2023-10-07T07:38:16.604187140Z",
     "start_time": "2023-10-07T07:38:12.369750915Z"
    }
   },
   "outputs": [],
   "source": [
    "class TransformerNetwork(torch.nn.Module):\n",
    "    def __init__(self,\n",
    "                 dim_vocab=len(vocab), padding_token=vocab['<pad>'],\n",
    "                 num_layers=2, num_heads=4, dim_hidden=64, dim_feedforward=64,\n",
    "                 dropout=0.01, positional_encoding=False):\n",
    "        super().__init__()\n",
    "        self.padding_token = padding_token\n",
    "        # TODO: Your code here.\n",
    "        self.embedding = nn.Embedding(len(vocab), dim_hidden, device=device)\n",
    "        self.dropout = nn.Dropout(dropout)\n",
    "        self.transformer = nn.Transformer(dim_hidden, num_heads, num_layers, num_layers, dim_feedforward, dropout,\n",
    "                                          batch_first=True, device=device)\n",
    "        self.predict = nn.Linear(dim_hidden, dim_vocab, device=device)\n",
    "        if positional_encoding:\n",
    "            self.pos_encoding = PositionalEncoding(dim_hidden)\n",
    "        else:\n",
    "            self.pos_encoding = torch.nn.Identity()\n",
    "\n",
    "    def forward(self, src, tgt):\n",
    "        pad_mask_src = generate_padding_mask(src, self.padding_token).to(device)\n",
    "        pad_mask_tgt = generate_padding_mask(tgt, self.padding_token).to(device)\n",
    "        subseq_mask_src = generate_square_subsequent_mask(src.shape[1]).to(device)\n",
    "        subseq_mask_tgt = generate_square_subsequent_mask(tgt.shape[1]).to(device)\n",
    "\n",
    "        src = src.to(device)\n",
    "        tgt = tgt.to(device)\n",
    "\n",
    "        embedded_src = self.embedding(src)\n",
    "        pos_encoded_src = self.pos_encoding(embedded_src)\n",
    "        embedded_tgt = self.embedding(tgt)\n",
    "        pos_encoded_tgt = self.pos_encoding(embedded_tgt)\n",
    "        dropped_src = self.dropout(pos_encoded_src)\n",
    "\n",
    "        transformed = self.transformer(dropped_src, pos_encoded_tgt, tgt_mask=subseq_mask_tgt,\n",
    "                                       src_key_padding_mask=pad_mask_src, tgt_key_padding_mask=pad_mask_tgt,\n",
    "                                       memory_key_padding_mask=pad_mask_src)\n",
    "        return self.predict(transformed)"
   ]
  },
  {
   "cell_type": "markdown",
   "metadata": {},
   "source": [
    "**(e) Try the transformer with an example batch.**"
   ]
  },
  {
   "cell_type": "code",
   "execution_count": 29,
   "metadata": {
    "ExecuteTime": {
     "end_time": "2023-10-07T07:38:16.606711859Z",
     "start_time": "2023-10-07T07:38:12.369938687Z"
    }
   },
   "outputs": [
    {
     "name": "stdout",
     "output_type": "stream",
     "text": [
      "x.shape torch.Size([125, 9])\n",
      "y.shape torch.Size([125, 5])\n",
      "y_prev.shape torch.Size([125, 5])\n",
      "y_pred.shape torch.Size([125, 5, 16])\n"
     ]
    }
   ],
   "source": [
    "net = TransformerNetwork(dim_feedforward=72)\n",
    "x, y = next(iter(train_loader))\n",
    "bos = torch.tensor(vocab['<bos>']).expand(y.shape[0], 1)\n",
    "y_prev = torch.cat((bos, y[:, :-1]), axis=1)\n",
    "\n",
    "print('x.shape', x.shape)\n",
    "print('y.shape', y.shape)\n",
    "print('y_prev.shape', y_prev.shape)\n",
    "\n",
    "y_pred = net(x, y_prev)\n",
    "print('y_pred.shape', y_pred.shape)\n",
    "\n",
    "# check the shape against what we expected\n",
    "np.testing.assert_equal(list(y_pred.shape), [y.shape[0], y.shape[1], len(vocab)])"
   ]
  },
  {
   "cell_type": "markdown",
   "metadata": {},
   "source": [
    "We can convert these predictions to tokens (but they're obviously random):"
   ]
  },
  {
   "cell_type": "code",
   "execution_count": 30,
   "metadata": {
    "ExecuteTime": {
     "end_time": "2023-10-07T07:38:16.607175746Z",
     "start_time": "2023-10-07T07:38:12.700750237Z"
    }
   },
   "outputs": [
    {
     "name": "stdout",
     "output_type": "stream",
     "text": [
      "[['<bos>' '7' '7' '7' '5']\n",
      " ['3' '7' '7' '6' '7']\n",
      " ['3' '7' '7' '7' '2']\n",
      " ['<bos>' '7' '7' '7' '6']\n",
      " ['3' '7' '7' '6' '7']]\n"
     ]
    }
   ],
   "source": [
    "print(decode_tokens(torch.argmax(y_pred, dim=2))[:5])"
   ]
  },
  {
   "cell_type": "code",
   "execution_count": 31,
   "metadata": {
    "ExecuteTime": {
     "end_time": "2023-10-07T07:38:16.607430097Z",
     "start_time": "2023-10-07T07:38:12.741684358Z"
    }
   },
   "outputs": [],
   "source": [
    "# Check that the transformer is defined correctly\n",
    "assert isinstance(net.embedding, torch.nn.Embedding)\n",
    "assert isinstance(net.dropout, torch.nn.Dropout)\n",
    "assert isinstance(net.transformer, torch.nn.Transformer)\n",
    "assert isinstance(net.predict, torch.nn.Linear)\n",
    "# Check parameters of transformer\n",
    "assert net.transformer.d_model == 64\n",
    "assert net.transformer.nhead == 4\n",
    "assert net.transformer.batch_first == True\n",
    "assert net.transformer.encoder.num_layers == 2\n",
    "assert net.transformer.decoder.num_layers == 2\n",
    "assert net.transformer.encoder.layers[0].linear1.out_features == 72\n",
    "assert net.dropout.p == 0.01\n",
    "assert net.transformer.encoder.layers[0].dropout.p == 0.01\n",
    "# Check that the forward function behaves correctly\n",
    "net.train(False)\n",
    "assert torch.all(torch.isclose( \\\n",
    "    net(x, y_prev), \\\n",
    "    net(torch.cat((x, torch.tensor(vocab['<pad>']).expand(x.shape[0], 5)), axis=1), y_prev), atol=1e-5)), \\\n",
    "    \"Adding padding to x should not affect the output of the network. Check src_key_padding_mask and memory_key_padding_mask. The former controls self attention to padding tokens in the encoder, the latter controls cross attention from decoder to encoder.\"\n",
    "assert torch.all(torch.isclose( \\\n",
    "    net(x, y_prev), \\\n",
    "    net(x, torch.cat((y_prev, torch.tensor(vocab['<pad>']).expand(y.shape[0], 5)), axis=1))[:, :-5], atol=1e-5)), \\\n",
    "    \"Adding padding to y should not affect the output of the network. Check tgt_key_padding_mask.\"\n",
    "assert torch.all(torch.isclose( \\\n",
    "    net(x, y_prev)[:, :2], \\\n",
    "    net(x, y_prev[:, :2]), atol=1e-5)), \\\n",
    "    \"The presence of later tokens in y should not affect the output for earlier tokens. Check tgt_mask.\"\n",
    "assert torch.all(torch.isclose( \\\n",
    "    net(x, y_prev), \\\n",
    "    net(torch.flip(x, [1]), y_prev), atol=1e-5)), \\\n",
    "    \"Order of x should not matter for a transformer network. Check src_mask.\"\n",
    "assert not torch.all(torch.isclose( \\\n",
    "    net(x, torch.flip(y_prev, [1])), \\\n",
    "    torch.flip(net(x, y_prev), [1]), atol=1e-5)), \\\n",
    "    \"Order of y should matter for a transformer network. Check tgt_mask.\""
   ]
  },
  {
   "cell_type": "markdown",
   "metadata": {},
   "source": [
    "## 5.4 Training (10 points)"
   ]
  },
  {
   "cell_type": "markdown",
   "metadata": {},
   "source": [
    "### Training loop"
   ]
  },
  {
   "cell_type": "markdown",
   "metadata": {},
   "source": [
    "We will base the training code on last week's code. A complication in computing the loss and accuracy are the padding tokens. So, before we work on the training loop itself, we need to update the `accuracy` function so it ingores these `<pad>` tokens. Let's do this in a generic way\n",
    "\n",
    "**(a) Copy the `accuracy` function from last week, and add a parameter `ignore_index`. The tokens with `y == ignore_index` should be ignored.<span style=\"float:right\"> (1 point)</span>**\n",
    "\n",
    "Hint: you can select elements from a tensor with `some_tensor[include]` where `include` is a tensor of booleans."
   ]
  },
  {
   "cell_type": "code",
   "execution_count": 32,
   "metadata": {
    "ExecuteTime": {
     "end_time": "2023-10-07T07:38:16.607652143Z",
     "start_time": "2023-10-07T07:38:12.785799359Z"
    }
   },
   "outputs": [],
   "source": [
    "def accuracy(y_hat, y, ignore_index=None):\n",
    "    # Computes the mean accuracy.\n",
    "    # y_hat: raw network output (before sigmoid or softmax)\n",
    "    #        shape (samples, classes)\n",
    "    # y:     shape (samples)\n",
    "    if y_hat.shape[1] == 1:\n",
    "        # binary classification\n",
    "        y_hat = (y_hat[:, 0] > 0).to(y.dtype)\n",
    "    else:\n",
    "        # multi-class classification\n",
    "        y_hat = torch.argmax(y_hat, axis=1).to(y.dtype)\n",
    "    mask = [y != ignore_index]\n",
    "    y = y[mask]\n",
    "    y_hat = y_hat[mask]\n",
    "    correct = (y_hat == y).to(torch.float32)\n",
    "    return torch.mean(correct)"
   ]
  },
  {
   "cell_type": "code",
   "execution_count": 33,
   "metadata": {
    "ExecuteTime": {
     "end_time": "2023-10-07T07:38:16.607871216Z",
     "start_time": "2023-10-07T07:38:12.786018352Z"
    }
   },
   "outputs": [],
   "source": [
    "# Test the accuracy function.\n",
    "assert accuracy(torch.tensor([[1, 0, 0], [0.4, 0.5, 0.1], [0, 1, 0], [0.4, 0.1, 0.5]]), torch.tensor([0, 1, 2, 2]),\n",
    "                1) == 2 / 3\n",
    "assert accuracy(torch.tensor([[1, 0, 0], [0.4, 0.5, 0.1], [0, 1, 0], [0.4, 0.1, 0.5]]), torch.tensor([0, 1, 2, 2]),\n",
    "                2) == 1\n",
    "assert accuracy(torch.tensor([[1, 0, 0], [0.4, 0.5, 0.1], [0, 1, 0], [0.4, 0.1, 0.5]]), torch.tensor([0, 1, 2, 2]),\n",
    "                3) == 3 / 4\n",
    "assert accuracy(torch.tensor([[1, 0, 0], [0.4, 0.5, 0.1], [0, 1, 0], [0.4, 0.1, 0.5]]), torch.tensor([2, 2, 1, 2]),\n",
    "                2) == 1"
   ]
  },
  {
   "cell_type": "markdown",
   "metadata": {},
   "source": [
    "CrossEntropyLoss**(b) Write a training loop for the transformer model.<span style=\"float:right\"> (4 points)</span>**\n",
    "\n",
    "See last week's assignment for inspiration.\n",
    "The code is mostly the same with the following changes:\n",
    " * The cross-entropy loss function and accuracy should ignore all `<pad>` tokens. (Use `ignore_index`, see the [documentation of CrossEntropyLoss](https://pytorch.org/docs/stable/generated/torch.nn.CrossEntropyLoss.html).)\n",
    " * The network expects `y_prev` as an extra input.\n",
    " * The output of the network contains a batch of N samples, with maximum length L, and gives logits over C classes, so it has size (N,L,C). But `CrossEntropyLoss` and `accuracy` expect a tensor of size (N,C,L). You can use [torch.Tensor.transpose](https://pytorch.org/docs/stable/generated/torch.transpose.html) to change the output to the right shape."
   ]
  },
  {
   "cell_type": "code",
   "execution_count": 34,
   "metadata": {
    "ExecuteTime": {
     "end_time": "2023-10-07T07:38:16.608090575Z",
     "start_time": "2023-10-07T07:38:12.786148465Z"
    }
   },
   "outputs": [],
   "source": [
    "def train(net, data_loaders, epochs=100, lr=0.001, device=device):\n",
    "    \"\"\"\n",
    "    Trains the model net with data from the data_loaders['train'] and data_loaders['val'].\n",
    "    \"\"\"\n",
    "    net = net.to(device)\n",
    "\n",
    "    optimizer = torch.optim.Adam(net.parameters(), lr=lr)\n",
    "\n",
    "    animator = d2l.Animator(xlabel='epoch',\n",
    "                            legend=['train loss', 'train acc', 'validation loss', 'validation acc'],\n",
    "                            figsize=(10, 5))\n",
    "\n",
    "    timer = {'train': d2l.Timer(), 'val': d2l.Timer()}\n",
    "\n",
    "    ignore_index = vocab['<pad>']\n",
    "    bos_token = vocab['<bos>']\n",
    "\n",
    "    for epoch in range(epochs):\n",
    "        # monitor loss, accuracy, number of samples\n",
    "        metrics = {'train': d2l.Accumulator(3), 'val': d2l.Accumulator(3)}\n",
    "\n",
    "        for phase in ('train', 'val'):\n",
    "            # switch network to train/eval mode\n",
    "            net.train(phase == 'train')\n",
    "\n",
    "            for i, (x, y) in enumerate(data_loaders[phase]):\n",
    "                timer[phase].start()\n",
    "\n",
    "                # move to device\n",
    "                x = x.to(device)\n",
    "                y = y.to(device)\n",
    "\n",
    "                # compute prediction\n",
    "                bos = torch.tensor(bos_token).expand(y.shape[0], 1)\n",
    "                bos = bos.to(device)\n",
    "                y_prev = torch.cat((bos, y[:, :-1]), axis=1)\n",
    "                y_hat = net(x, y_prev)\n",
    "                y_hat = torch.transpose(y_hat, 1, 2)\n",
    "\n",
    "                if y_hat.shape[1] == 1:\n",
    "                    # compute binary cross-entropy loss\n",
    "                    loss = torch.nn.BCEWithLogitsLoss()(y_hat[:, 0], y.to(torch.float))\n",
    "                else:\n",
    "                    # compute cross-entropy loss\n",
    "                    loss = torch.nn.CrossEntropyLoss(ignore_index=ignore_index)(y_hat, y)\n",
    "\n",
    "                if phase == 'train':\n",
    "                    # compute gradients and update weights\n",
    "                    optimizer.zero_grad()\n",
    "                    loss.backward()\n",
    "                    optimizer.step()\n",
    "\n",
    "                metrics[phase].add(loss * x.shape[0],\n",
    "                                   accuracy(y_hat, y, ignore_index=ignore_index) * x.shape[0],\n",
    "                                   x.shape[0])\n",
    "\n",
    "                timer[phase].stop()\n",
    "\n",
    "        animator.add(epoch + 1,\n",
    "                     (metrics['train'][0] / metrics['train'][2],\n",
    "                      metrics['train'][1] / metrics['train'][2],\n",
    "                      metrics['val'][0] / metrics['val'][2],\n",
    "                      metrics['val'][1] / metrics['val'][2]))\n",
    "\n",
    "    train_loss = metrics['train'][0] / metrics['train'][2]\n",
    "    train_acc = metrics['train'][1] / metrics['train'][2]\n",
    "    val_loss = metrics['val'][0] / metrics['val'][2]\n",
    "    val_acc = metrics['val'][1] / metrics['val'][2]\n",
    "    examples_per_sec = metrics['train'][2] * epochs / timer['train'].sum()\n",
    "\n",
    "    print(f'train loss {train_loss:.3f}, train acc {train_acc:.3f}, '\n",
    "          f'val loss {val_loss:.3f}, val acc {val_acc:.3f}')\n",
    "    print(f'{examples_per_sec:.1f} examples/sec '\n",
    "          f'on {str(device)}')"
   ]
  },
  {
   "cell_type": "markdown",
   "metadata": {},
   "source": [
    "### Experiment"
   ]
  },
  {
   "cell_type": "markdown",
   "metadata": {},
   "source": [
    "**(c) Train a transformer network. Use 100 epochs with a learning of 0.001<span style=\"float:right\"> (no points)</span>**"
   ]
  },
  {
   "cell_type": "code",
   "execution_count": 35,
   "metadata": {},
   "outputs": [
    {
     "name": "stdout",
     "output_type": "stream",
     "text": [
      "train loss 1.131, train acc 0.607, val loss 1.863, val acc 0.437\n",
      "11251.7 examples/sec on cuda:0\n"
     ]
    },
    {
     "data": {
      "text/plain": "<Figure size 1000x500 with 1 Axes>",
      "image/svg+xml": "<?xml version=\"1.0\" encoding=\"utf-8\" standalone=\"no\"?>\n<!DOCTYPE svg PUBLIC \"-//W3C//DTD SVG 1.1//EN\"\n  \"http://www.w3.org/Graphics/SVG/1.1/DTD/svg11.dtd\">\n<svg xmlns:xlink=\"http://www.w3.org/1999/xlink\" width=\"595.303125pt\" height=\"321.95625pt\" viewBox=\"0 0 595.303125 321.95625\" xmlns=\"http://www.w3.org/2000/svg\" version=\"1.1\">\n <metadata>\n  <rdf:RDF xmlns:dc=\"http://purl.org/dc/elements/1.1/\" xmlns:cc=\"http://creativecommons.org/ns#\" xmlns:rdf=\"http://www.w3.org/1999/02/22-rdf-syntax-ns#\">\n   <cc:Work>\n    <dc:type rdf:resource=\"http://purl.org/dc/dcmitype/StillImage\"/>\n    <dc:date>2023-10-07T09:40:51.093642</dc:date>\n    <dc:format>image/svg+xml</dc:format>\n    <dc:creator>\n     <cc:Agent>\n      <dc:title>Matplotlib v3.7.2, https://matplotlib.org/</dc:title>\n     </cc:Agent>\n    </dc:creator>\n   </cc:Work>\n  </rdf:RDF>\n </metadata>\n <defs>\n  <style type=\"text/css\">*{stroke-linejoin: round; stroke-linecap: butt}</style>\n </defs>\n <g id=\"figure_1\">\n  <g id=\"patch_1\">\n   <path d=\"M -0 321.95625 \nL 595.303125 321.95625 \nL 595.303125 0 \nL -0 0 \nz\n\" style=\"fill: #ffffff\"/>\n  </g>\n  <g id=\"axes_1\">\n   <g id=\"patch_2\">\n    <path d=\"M 30.103125 284.4 \nL 588.103125 284.4 \nL 588.103125 7.2 \nL 30.103125 7.2 \nz\n\" style=\"fill: #ffffff\"/>\n   </g>\n   <g id=\"matplotlib.axis_1\">\n    <g id=\"xtick_1\">\n     <g id=\"line2d_1\">\n      <path d=\"M 50.342794 284.4 \nL 50.342794 7.2 \n\" clip-path=\"url(#pf817303a1c)\" style=\"fill: none; stroke: #b0b0b0; stroke-width: 0.8; stroke-linecap: square\"/>\n     </g>\n     <g id=\"line2d_2\">\n      <defs>\n       <path id=\"me9b2bacf92\" d=\"M 0 0 \nL 0 3.5 \n\" style=\"stroke: #000000; stroke-width: 0.8\"/>\n      </defs>\n      <g>\n       <use xlink:href=\"#me9b2bacf92\" x=\"50.342794\" y=\"284.4\" style=\"stroke: #000000; stroke-width: 0.8\"/>\n      </g>\n     </g>\n     <g id=\"text_1\">\n      <!-- 0 -->\n      <g transform=\"translate(47.161544 298.998438) scale(0.1 -0.1)\">\n       <defs>\n        <path id=\"DejaVuSans-30\" d=\"M 2034 4250 \nQ 1547 4250 1301 3770 \nQ 1056 3291 1056 2328 \nQ 1056 1369 1301 889 \nQ 1547 409 2034 409 \nQ 2525 409 2770 889 \nQ 3016 1369 3016 2328 \nQ 3016 3291 2770 3770 \nQ 2525 4250 2034 4250 \nz\nM 2034 4750 \nQ 2819 4750 3233 4129 \nQ 3647 3509 3647 2328 \nQ 3647 1150 3233 529 \nQ 2819 -91 2034 -91 \nQ 1250 -91 836 529 \nQ 422 1150 422 2328 \nQ 422 3509 836 4129 \nQ 1250 4750 2034 4750 \nz\n\" transform=\"scale(0.015625)\"/>\n       </defs>\n       <use xlink:href=\"#DejaVuSans-30\"/>\n      </g>\n     </g>\n    </g>\n    <g id=\"xtick_2\">\n     <g id=\"line2d_3\">\n      <path d=\"M 152.822133 284.4 \nL 152.822133 7.2 \n\" clip-path=\"url(#pf817303a1c)\" style=\"fill: none; stroke: #b0b0b0; stroke-width: 0.8; stroke-linecap: square\"/>\n     </g>\n     <g id=\"line2d_4\">\n      <g>\n       <use xlink:href=\"#me9b2bacf92\" x=\"152.822133\" y=\"284.4\" style=\"stroke: #000000; stroke-width: 0.8\"/>\n      </g>\n     </g>\n     <g id=\"text_2\">\n      <!-- 20 -->\n      <g transform=\"translate(146.459633 298.998438) scale(0.1 -0.1)\">\n       <defs>\n        <path id=\"DejaVuSans-32\" d=\"M 1228 531 \nL 3431 531 \nL 3431 0 \nL 469 0 \nL 469 531 \nQ 828 903 1448 1529 \nQ 2069 2156 2228 2338 \nQ 2531 2678 2651 2914 \nQ 2772 3150 2772 3378 \nQ 2772 3750 2511 3984 \nQ 2250 4219 1831 4219 \nQ 1534 4219 1204 4116 \nQ 875 4013 500 3803 \nL 500 4441 \nQ 881 4594 1212 4672 \nQ 1544 4750 1819 4750 \nQ 2544 4750 2975 4387 \nQ 3406 4025 3406 3419 \nQ 3406 3131 3298 2873 \nQ 3191 2616 2906 2266 \nQ 2828 2175 2409 1742 \nQ 1991 1309 1228 531 \nz\n\" transform=\"scale(0.015625)\"/>\n       </defs>\n       <use xlink:href=\"#DejaVuSans-32\"/>\n       <use xlink:href=\"#DejaVuSans-30\" x=\"63.623047\"/>\n      </g>\n     </g>\n    </g>\n    <g id=\"xtick_3\">\n     <g id=\"line2d_5\">\n      <path d=\"M 255.301472 284.4 \nL 255.301472 7.2 \n\" clip-path=\"url(#pf817303a1c)\" style=\"fill: none; stroke: #b0b0b0; stroke-width: 0.8; stroke-linecap: square\"/>\n     </g>\n     <g id=\"line2d_6\">\n      <g>\n       <use xlink:href=\"#me9b2bacf92\" x=\"255.301472\" y=\"284.4\" style=\"stroke: #000000; stroke-width: 0.8\"/>\n      </g>\n     </g>\n     <g id=\"text_3\">\n      <!-- 40 -->\n      <g transform=\"translate(248.938972 298.998438) scale(0.1 -0.1)\">\n       <defs>\n        <path id=\"DejaVuSans-34\" d=\"M 2419 4116 \nL 825 1625 \nL 2419 1625 \nL 2419 4116 \nz\nM 2253 4666 \nL 3047 4666 \nL 3047 1625 \nL 3713 1625 \nL 3713 1100 \nL 3047 1100 \nL 3047 0 \nL 2419 0 \nL 2419 1100 \nL 313 1100 \nL 313 1709 \nL 2253 4666 \nz\n\" transform=\"scale(0.015625)\"/>\n       </defs>\n       <use xlink:href=\"#DejaVuSans-34\"/>\n       <use xlink:href=\"#DejaVuSans-30\" x=\"63.623047\"/>\n      </g>\n     </g>\n    </g>\n    <g id=\"xtick_4\">\n     <g id=\"line2d_7\">\n      <path d=\"M 357.780811 284.4 \nL 357.780811 7.2 \n\" clip-path=\"url(#pf817303a1c)\" style=\"fill: none; stroke: #b0b0b0; stroke-width: 0.8; stroke-linecap: square\"/>\n     </g>\n     <g id=\"line2d_8\">\n      <g>\n       <use xlink:href=\"#me9b2bacf92\" x=\"357.780811\" y=\"284.4\" style=\"stroke: #000000; stroke-width: 0.8\"/>\n      </g>\n     </g>\n     <g id=\"text_4\">\n      <!-- 60 -->\n      <g transform=\"translate(351.418311 298.998438) scale(0.1 -0.1)\">\n       <defs>\n        <path id=\"DejaVuSans-36\" d=\"M 2113 2584 \nQ 1688 2584 1439 2293 \nQ 1191 2003 1191 1497 \nQ 1191 994 1439 701 \nQ 1688 409 2113 409 \nQ 2538 409 2786 701 \nQ 3034 994 3034 1497 \nQ 3034 2003 2786 2293 \nQ 2538 2584 2113 2584 \nz\nM 3366 4563 \nL 3366 3988 \nQ 3128 4100 2886 4159 \nQ 2644 4219 2406 4219 \nQ 1781 4219 1451 3797 \nQ 1122 3375 1075 2522 \nQ 1259 2794 1537 2939 \nQ 1816 3084 2150 3084 \nQ 2853 3084 3261 2657 \nQ 3669 2231 3669 1497 \nQ 3669 778 3244 343 \nQ 2819 -91 2113 -91 \nQ 1303 -91 875 529 \nQ 447 1150 447 2328 \nQ 447 3434 972 4092 \nQ 1497 4750 2381 4750 \nQ 2619 4750 2861 4703 \nQ 3103 4656 3366 4563 \nz\n\" transform=\"scale(0.015625)\"/>\n       </defs>\n       <use xlink:href=\"#DejaVuSans-36\"/>\n       <use xlink:href=\"#DejaVuSans-30\" x=\"63.623047\"/>\n      </g>\n     </g>\n    </g>\n    <g id=\"xtick_5\">\n     <g id=\"line2d_9\">\n      <path d=\"M 460.26015 284.4 \nL 460.26015 7.2 \n\" clip-path=\"url(#pf817303a1c)\" style=\"fill: none; stroke: #b0b0b0; stroke-width: 0.8; stroke-linecap: square\"/>\n     </g>\n     <g id=\"line2d_10\">\n      <g>\n       <use xlink:href=\"#me9b2bacf92\" x=\"460.26015\" y=\"284.4\" style=\"stroke: #000000; stroke-width: 0.8\"/>\n      </g>\n     </g>\n     <g id=\"text_5\">\n      <!-- 80 -->\n      <g transform=\"translate(453.89765 298.998438) scale(0.1 -0.1)\">\n       <defs>\n        <path id=\"DejaVuSans-38\" d=\"M 2034 2216 \nQ 1584 2216 1326 1975 \nQ 1069 1734 1069 1313 \nQ 1069 891 1326 650 \nQ 1584 409 2034 409 \nQ 2484 409 2743 651 \nQ 3003 894 3003 1313 \nQ 3003 1734 2745 1975 \nQ 2488 2216 2034 2216 \nz\nM 1403 2484 \nQ 997 2584 770 2862 \nQ 544 3141 544 3541 \nQ 544 4100 942 4425 \nQ 1341 4750 2034 4750 \nQ 2731 4750 3128 4425 \nQ 3525 4100 3525 3541 \nQ 3525 3141 3298 2862 \nQ 3072 2584 2669 2484 \nQ 3125 2378 3379 2068 \nQ 3634 1759 3634 1313 \nQ 3634 634 3220 271 \nQ 2806 -91 2034 -91 \nQ 1263 -91 848 271 \nQ 434 634 434 1313 \nQ 434 1759 690 2068 \nQ 947 2378 1403 2484 \nz\nM 1172 3481 \nQ 1172 3119 1398 2916 \nQ 1625 2713 2034 2713 \nQ 2441 2713 2670 2916 \nQ 2900 3119 2900 3481 \nQ 2900 3844 2670 4047 \nQ 2441 4250 2034 4250 \nQ 1625 4250 1398 4047 \nQ 1172 3844 1172 3481 \nz\n\" transform=\"scale(0.015625)\"/>\n       </defs>\n       <use xlink:href=\"#DejaVuSans-38\"/>\n       <use xlink:href=\"#DejaVuSans-30\" x=\"63.623047\"/>\n      </g>\n     </g>\n    </g>\n    <g id=\"xtick_6\">\n     <g id=\"line2d_11\">\n      <path d=\"M 562.739489 284.4 \nL 562.739489 7.2 \n\" clip-path=\"url(#pf817303a1c)\" style=\"fill: none; stroke: #b0b0b0; stroke-width: 0.8; stroke-linecap: square\"/>\n     </g>\n     <g id=\"line2d_12\">\n      <g>\n       <use xlink:href=\"#me9b2bacf92\" x=\"562.739489\" y=\"284.4\" style=\"stroke: #000000; stroke-width: 0.8\"/>\n      </g>\n     </g>\n     <g id=\"text_6\">\n      <!-- 100 -->\n      <g transform=\"translate(553.195739 298.998438) scale(0.1 -0.1)\">\n       <defs>\n        <path id=\"DejaVuSans-31\" d=\"M 794 531 \nL 1825 531 \nL 1825 4091 \nL 703 3866 \nL 703 4441 \nL 1819 4666 \nL 2450 4666 \nL 2450 531 \nL 3481 531 \nL 3481 0 \nL 794 0 \nL 794 531 \nz\n\" transform=\"scale(0.015625)\"/>\n       </defs>\n       <use xlink:href=\"#DejaVuSans-31\"/>\n       <use xlink:href=\"#DejaVuSans-30\" x=\"63.623047\"/>\n       <use xlink:href=\"#DejaVuSans-30\" x=\"127.246094\"/>\n      </g>\n     </g>\n    </g>\n    <g id=\"text_7\">\n     <!-- epoch -->\n     <g transform=\"translate(293.875 312.676562) scale(0.1 -0.1)\">\n      <defs>\n       <path id=\"DejaVuSans-65\" d=\"M 3597 1894 \nL 3597 1613 \nL 953 1613 \nQ 991 1019 1311 708 \nQ 1631 397 2203 397 \nQ 2534 397 2845 478 \nQ 3156 559 3463 722 \nL 3463 178 \nQ 3153 47 2828 -22 \nQ 2503 -91 2169 -91 \nQ 1331 -91 842 396 \nQ 353 884 353 1716 \nQ 353 2575 817 3079 \nQ 1281 3584 2069 3584 \nQ 2775 3584 3186 3129 \nQ 3597 2675 3597 1894 \nz\nM 3022 2063 \nQ 3016 2534 2758 2815 \nQ 2500 3097 2075 3097 \nQ 1594 3097 1305 2825 \nQ 1016 2553 972 2059 \nL 3022 2063 \nz\n\" transform=\"scale(0.015625)\"/>\n       <path id=\"DejaVuSans-70\" d=\"M 1159 525 \nL 1159 -1331 \nL 581 -1331 \nL 581 3500 \nL 1159 3500 \nL 1159 2969 \nQ 1341 3281 1617 3432 \nQ 1894 3584 2278 3584 \nQ 2916 3584 3314 3078 \nQ 3713 2572 3713 1747 \nQ 3713 922 3314 415 \nQ 2916 -91 2278 -91 \nQ 1894 -91 1617 61 \nQ 1341 213 1159 525 \nz\nM 3116 1747 \nQ 3116 2381 2855 2742 \nQ 2594 3103 2138 3103 \nQ 1681 3103 1420 2742 \nQ 1159 2381 1159 1747 \nQ 1159 1113 1420 752 \nQ 1681 391 2138 391 \nQ 2594 391 2855 752 \nQ 3116 1113 3116 1747 \nz\n\" transform=\"scale(0.015625)\"/>\n       <path id=\"DejaVuSans-6f\" d=\"M 1959 3097 \nQ 1497 3097 1228 2736 \nQ 959 2375 959 1747 \nQ 959 1119 1226 758 \nQ 1494 397 1959 397 \nQ 2419 397 2687 759 \nQ 2956 1122 2956 1747 \nQ 2956 2369 2687 2733 \nQ 2419 3097 1959 3097 \nz\nM 1959 3584 \nQ 2709 3584 3137 3096 \nQ 3566 2609 3566 1747 \nQ 3566 888 3137 398 \nQ 2709 -91 1959 -91 \nQ 1206 -91 779 398 \nQ 353 888 353 1747 \nQ 353 2609 779 3096 \nQ 1206 3584 1959 3584 \nz\n\" transform=\"scale(0.015625)\"/>\n       <path id=\"DejaVuSans-63\" d=\"M 3122 3366 \nL 3122 2828 \nQ 2878 2963 2633 3030 \nQ 2388 3097 2138 3097 \nQ 1578 3097 1268 2742 \nQ 959 2388 959 1747 \nQ 959 1106 1268 751 \nQ 1578 397 2138 397 \nQ 2388 397 2633 464 \nQ 2878 531 3122 666 \nL 3122 134 \nQ 2881 22 2623 -34 \nQ 2366 -91 2075 -91 \nQ 1284 -91 818 406 \nQ 353 903 353 1747 \nQ 353 2603 823 3093 \nQ 1294 3584 2113 3584 \nQ 2378 3584 2631 3529 \nQ 2884 3475 3122 3366 \nz\n\" transform=\"scale(0.015625)\"/>\n       <path id=\"DejaVuSans-68\" d=\"M 3513 2113 \nL 3513 0 \nL 2938 0 \nL 2938 2094 \nQ 2938 2591 2744 2837 \nQ 2550 3084 2163 3084 \nQ 1697 3084 1428 2787 \nQ 1159 2491 1159 1978 \nL 1159 0 \nL 581 0 \nL 581 4863 \nL 1159 4863 \nL 1159 2956 \nQ 1366 3272 1645 3428 \nQ 1925 3584 2291 3584 \nQ 2894 3584 3203 3211 \nQ 3513 2838 3513 2113 \nz\n\" transform=\"scale(0.015625)\"/>\n      </defs>\n      <use xlink:href=\"#DejaVuSans-65\"/>\n      <use xlink:href=\"#DejaVuSans-70\" x=\"61.523438\"/>\n      <use xlink:href=\"#DejaVuSans-6f\" x=\"125\"/>\n      <use xlink:href=\"#DejaVuSans-63\" x=\"186.181641\"/>\n      <use xlink:href=\"#DejaVuSans-68\" x=\"241.162109\"/>\n     </g>\n    </g>\n   </g>\n   <g id=\"matplotlib.axis_2\">\n    <g id=\"ytick_1\">\n     <g id=\"line2d_13\">\n      <path d=\"M 30.103125 268.500341 \nL 588.103125 268.500341 \n\" clip-path=\"url(#pf817303a1c)\" style=\"fill: none; stroke: #b0b0b0; stroke-width: 0.8; stroke-linecap: square\"/>\n     </g>\n     <g id=\"line2d_14\">\n      <defs>\n       <path id=\"m8048c8b97c\" d=\"M 0 0 \nL -3.5 0 \n\" style=\"stroke: #000000; stroke-width: 0.8\"/>\n      </defs>\n      <g>\n       <use xlink:href=\"#m8048c8b97c\" x=\"30.103125\" y=\"268.500341\" style=\"stroke: #000000; stroke-width: 0.8\"/>\n      </g>\n     </g>\n     <g id=\"text_8\">\n      <!-- 0.4 -->\n      <g transform=\"translate(7.2 272.29956) scale(0.1 -0.1)\">\n       <defs>\n        <path id=\"DejaVuSans-2e\" d=\"M 684 794 \nL 1344 794 \nL 1344 0 \nL 684 0 \nL 684 794 \nz\n\" transform=\"scale(0.015625)\"/>\n       </defs>\n       <use xlink:href=\"#DejaVuSans-30\"/>\n       <use xlink:href=\"#DejaVuSans-2e\" x=\"63.623047\"/>\n       <use xlink:href=\"#DejaVuSans-34\" x=\"95.410156\"/>\n      </g>\n     </g>\n    </g>\n    <g id=\"ytick_2\">\n     <g id=\"line2d_15\">\n      <path d=\"M 30.103125 236.614191 \nL 588.103125 236.614191 \n\" clip-path=\"url(#pf817303a1c)\" style=\"fill: none; stroke: #b0b0b0; stroke-width: 0.8; stroke-linecap: square\"/>\n     </g>\n     <g id=\"line2d_16\">\n      <g>\n       <use xlink:href=\"#m8048c8b97c\" x=\"30.103125\" y=\"236.614191\" style=\"stroke: #000000; stroke-width: 0.8\"/>\n      </g>\n     </g>\n     <g id=\"text_9\">\n      <!-- 0.6 -->\n      <g transform=\"translate(7.2 240.41341) scale(0.1 -0.1)\">\n       <use xlink:href=\"#DejaVuSans-30\"/>\n       <use xlink:href=\"#DejaVuSans-2e\" x=\"63.623047\"/>\n       <use xlink:href=\"#DejaVuSans-36\" x=\"95.410156\"/>\n      </g>\n     </g>\n    </g>\n    <g id=\"ytick_3\">\n     <g id=\"line2d_17\">\n      <path d=\"M 30.103125 204.728041 \nL 588.103125 204.728041 \n\" clip-path=\"url(#pf817303a1c)\" style=\"fill: none; stroke: #b0b0b0; stroke-width: 0.8; stroke-linecap: square\"/>\n     </g>\n     <g id=\"line2d_18\">\n      <g>\n       <use xlink:href=\"#m8048c8b97c\" x=\"30.103125\" y=\"204.728041\" style=\"stroke: #000000; stroke-width: 0.8\"/>\n      </g>\n     </g>\n     <g id=\"text_10\">\n      <!-- 0.8 -->\n      <g transform=\"translate(7.2 208.52726) scale(0.1 -0.1)\">\n       <use xlink:href=\"#DejaVuSans-30\"/>\n       <use xlink:href=\"#DejaVuSans-2e\" x=\"63.623047\"/>\n       <use xlink:href=\"#DejaVuSans-38\" x=\"95.410156\"/>\n      </g>\n     </g>\n    </g>\n    <g id=\"ytick_4\">\n     <g id=\"line2d_19\">\n      <path d=\"M 30.103125 172.841891 \nL 588.103125 172.841891 \n\" clip-path=\"url(#pf817303a1c)\" style=\"fill: none; stroke: #b0b0b0; stroke-width: 0.8; stroke-linecap: square\"/>\n     </g>\n     <g id=\"line2d_20\">\n      <g>\n       <use xlink:href=\"#m8048c8b97c\" x=\"30.103125\" y=\"172.841891\" style=\"stroke: #000000; stroke-width: 0.8\"/>\n      </g>\n     </g>\n     <g id=\"text_11\">\n      <!-- 1.0 -->\n      <g transform=\"translate(7.2 176.64111) scale(0.1 -0.1)\">\n       <use xlink:href=\"#DejaVuSans-31\"/>\n       <use xlink:href=\"#DejaVuSans-2e\" x=\"63.623047\"/>\n       <use xlink:href=\"#DejaVuSans-30\" x=\"95.410156\"/>\n      </g>\n     </g>\n    </g>\n    <g id=\"ytick_5\">\n     <g id=\"line2d_21\">\n      <path d=\"M 30.103125 140.955741 \nL 588.103125 140.955741 \n\" clip-path=\"url(#pf817303a1c)\" style=\"fill: none; stroke: #b0b0b0; stroke-width: 0.8; stroke-linecap: square\"/>\n     </g>\n     <g id=\"line2d_22\">\n      <g>\n       <use xlink:href=\"#m8048c8b97c\" x=\"30.103125\" y=\"140.955741\" style=\"stroke: #000000; stroke-width: 0.8\"/>\n      </g>\n     </g>\n     <g id=\"text_12\">\n      <!-- 1.2 -->\n      <g transform=\"translate(7.2 144.75496) scale(0.1 -0.1)\">\n       <use xlink:href=\"#DejaVuSans-31\"/>\n       <use xlink:href=\"#DejaVuSans-2e\" x=\"63.623047\"/>\n       <use xlink:href=\"#DejaVuSans-32\" x=\"95.410156\"/>\n      </g>\n     </g>\n    </g>\n    <g id=\"ytick_6\">\n     <g id=\"line2d_23\">\n      <path d=\"M 30.103125 109.069591 \nL 588.103125 109.069591 \n\" clip-path=\"url(#pf817303a1c)\" style=\"fill: none; stroke: #b0b0b0; stroke-width: 0.8; stroke-linecap: square\"/>\n     </g>\n     <g id=\"line2d_24\">\n      <g>\n       <use xlink:href=\"#m8048c8b97c\" x=\"30.103125\" y=\"109.069591\" style=\"stroke: #000000; stroke-width: 0.8\"/>\n      </g>\n     </g>\n     <g id=\"text_13\">\n      <!-- 1.4 -->\n      <g transform=\"translate(7.2 112.868809) scale(0.1 -0.1)\">\n       <use xlink:href=\"#DejaVuSans-31\"/>\n       <use xlink:href=\"#DejaVuSans-2e\" x=\"63.623047\"/>\n       <use xlink:href=\"#DejaVuSans-34\" x=\"95.410156\"/>\n      </g>\n     </g>\n    </g>\n    <g id=\"ytick_7\">\n     <g id=\"line2d_25\">\n      <path d=\"M 30.103125 77.183441 \nL 588.103125 77.183441 \n\" clip-path=\"url(#pf817303a1c)\" style=\"fill: none; stroke: #b0b0b0; stroke-width: 0.8; stroke-linecap: square\"/>\n     </g>\n     <g id=\"line2d_26\">\n      <g>\n       <use xlink:href=\"#m8048c8b97c\" x=\"30.103125\" y=\"77.183441\" style=\"stroke: #000000; stroke-width: 0.8\"/>\n      </g>\n     </g>\n     <g id=\"text_14\">\n      <!-- 1.6 -->\n      <g transform=\"translate(7.2 80.982659) scale(0.1 -0.1)\">\n       <use xlink:href=\"#DejaVuSans-31\"/>\n       <use xlink:href=\"#DejaVuSans-2e\" x=\"63.623047\"/>\n       <use xlink:href=\"#DejaVuSans-36\" x=\"95.410156\"/>\n      </g>\n     </g>\n    </g>\n    <g id=\"ytick_8\">\n     <g id=\"line2d_27\">\n      <path d=\"M 30.103125 45.29729 \nL 588.103125 45.29729 \n\" clip-path=\"url(#pf817303a1c)\" style=\"fill: none; stroke: #b0b0b0; stroke-width: 0.8; stroke-linecap: square\"/>\n     </g>\n     <g id=\"line2d_28\">\n      <g>\n       <use xlink:href=\"#m8048c8b97c\" x=\"30.103125\" y=\"45.29729\" style=\"stroke: #000000; stroke-width: 0.8\"/>\n      </g>\n     </g>\n     <g id=\"text_15\">\n      <!-- 1.8 -->\n      <g transform=\"translate(7.2 49.096509) scale(0.1 -0.1)\">\n       <use xlink:href=\"#DejaVuSans-31\"/>\n       <use xlink:href=\"#DejaVuSans-2e\" x=\"63.623047\"/>\n       <use xlink:href=\"#DejaVuSans-38\" x=\"95.410156\"/>\n      </g>\n     </g>\n    </g>\n    <g id=\"ytick_9\">\n     <g id=\"line2d_29\">\n      <path d=\"M 30.103125 13.41114 \nL 588.103125 13.41114 \n\" clip-path=\"url(#pf817303a1c)\" style=\"fill: none; stroke: #b0b0b0; stroke-width: 0.8; stroke-linecap: square\"/>\n     </g>\n     <g id=\"line2d_30\">\n      <g>\n       <use xlink:href=\"#m8048c8b97c\" x=\"30.103125\" y=\"13.41114\" style=\"stroke: #000000; stroke-width: 0.8\"/>\n      </g>\n     </g>\n     <g id=\"text_16\">\n      <!-- 2.0 -->\n      <g transform=\"translate(7.2 17.210359) scale(0.1 -0.1)\">\n       <use xlink:href=\"#DejaVuSans-32\"/>\n       <use xlink:href=\"#DejaVuSans-2e\" x=\"63.623047\"/>\n       <use xlink:href=\"#DejaVuSans-30\" x=\"95.410156\"/>\n      </g>\n     </g>\n    </g>\n   </g>\n   <g id=\"line2d_31\">\n    <path d=\"M 55.466761 19.8 \nL 60.590728 57.669852 \nL 65.714695 64.838537 \nL 70.838662 67.337182 \nL 75.962629 69.193246 \nL 81.086596 70.555421 \nL 86.210563 72.393815 \nL 91.33453 73.724742 \nL 96.458497 75.876029 \nL 101.582464 76.984273 \nL 106.706431 78.227945 \nL 111.830398 79.187267 \nL 116.954365 80.823473 \nL 122.078332 81.813508 \nL 127.202299 83.294171 \nL 132.326265 84.612339 \nL 137.450232 85.088359 \nL 142.574199 86.058641 \nL 147.698166 87.950311 \nL 152.822133 89.261288 \nL 157.9461 89.945624 \nL 163.070067 91.255595 \nL 168.194034 91.900331 \nL 173.318001 93.41658 \nL 178.441968 93.783572 \nL 183.565935 94.842927 \nL 188.689902 96.363604 \nL 193.813869 97.536671 \nL 198.937836 98.258947 \nL 204.061803 99.179183 \nL 209.18577 100.258568 \nL 214.309737 101.004886 \nL 219.433704 102.640076 \nL 224.55767 103.049417 \nL 229.681637 104.024925 \nL 234.805604 104.627656 \nL 239.929571 105.441938 \nL 245.053538 107.416855 \nL 250.177505 108.119161 \nL 255.301472 108.887716 \nL 260.425439 110.122332 \nL 265.549406 111.276519 \nL 270.673373 112.426938 \nL 275.79734 114.121388 \nL 280.921307 114.514027 \nL 286.045274 114.967385 \nL 291.169241 115.900934 \nL 296.293208 116.830645 \nL 301.417175 118.11477 \nL 306.541142 118.375468 \nL 311.665108 118.948304 \nL 316.789075 120.368423 \nL 321.913042 120.996734 \nL 327.037009 121.760311 \nL 332.160976 122.801467 \nL 337.284943 123.994579 \nL 342.40891 124.054741 \nL 347.532877 124.713167 \nL 352.656844 125.626819 \nL 357.780811 126.08545 \nL 362.904778 127.331062 \nL 368.028745 127.373283 \nL 373.152712 127.754069 \nL 378.276679 128.709471 \nL 383.400646 130.784255 \nL 388.524613 131.953389 \nL 393.64858 132.984294 \nL 398.772546 133.281134 \nL 403.896513 133.564584 \nL 409.02048 134.167095 \nL 414.144447 135.150971 \nL 419.268414 134.000702 \nL 424.392381 134.546822 \nL 429.516348 136.764821 \nL 434.640315 136.871064 \nL 439.764282 136.860791 \nL 444.888249 138.895239 \nL 450.012216 138.522806 \nL 455.136183 139.000072 \nL 460.26015 139.595972 \nL 465.384117 140.99682 \nL 470.508084 141.310248 \nL 475.632051 141.687209 \nL 480.756018 142.450755 \nL 485.879985 142.384237 \nL 491.003951 142.897035 \nL 496.127918 144.793634 \nL 501.251885 145.469086 \nL 506.375852 146.133962 \nL 511.499819 147.076585 \nL 516.623786 147.006993 \nL 521.747753 147.333973 \nL 526.87172 148.923895 \nL 531.995687 148.625091 \nL 537.119654 148.899568 \nL 542.243621 149.774726 \nL 547.367588 149.079101 \nL 552.491555 149.854652 \nL 557.615522 151.890064 \nL 562.739489 151.971669 \n\" clip-path=\"url(#pf817303a1c)\" style=\"fill: none; stroke: #1f77b4; stroke-width: 1.5; stroke-linecap: square\"/>\n   </g>\n   <g id=\"line2d_32\">\n    <path d=\"M 55.466761 271.8 \nL 60.590728 267.4316 \nL 65.714695 266.885895 \nL 70.838662 266.50953 \nL 75.962629 266.129568 \nL 81.086596 265.708683 \nL 86.210563 264.947979 \nL 91.33453 264.731575 \nL 96.458497 263.817781 \nL 101.582464 263.485248 \nL 106.706431 263.187671 \nL 111.830398 262.690671 \nL 116.954365 261.808016 \nL 122.078332 261.866316 \nL 127.202299 261.369872 \nL 132.326265 260.68597 \nL 137.450232 260.465035 \nL 142.574199 259.854336 \nL 147.698166 259.738433 \nL 152.822133 258.984592 \nL 157.9461 258.718033 \nL 163.070067 258.278805 \nL 168.194034 257.93539 \nL 173.318001 257.31079 \nL 178.441968 257.267049 \nL 183.565935 256.668531 \nL 188.689902 256.439182 \nL 193.813869 255.855423 \nL 198.937836 255.266436 \nL 204.061803 255.01317 \nL 209.18577 254.703182 \nL 214.309737 254.488269 \nL 219.433704 253.906544 \nL 224.55767 253.546305 \nL 229.681637 252.886925 \nL 234.805604 253.07629 \nL 239.929571 252.794483 \nL 245.053538 251.969917 \nL 250.177505 251.843026 \nL 255.301472 251.332822 \nL 260.425439 250.916156 \nL 265.549406 250.651077 \nL 270.673373 250.165532 \nL 275.79734 249.460736 \nL 280.921307 249.335331 \nL 286.045274 249.043625 \nL 291.169241 248.894372 \nL 296.293208 248.337491 \nL 301.417175 248.168778 \nL 306.541142 247.870283 \nL 311.665108 247.535866 \nL 316.789075 246.774348 \nL 321.913042 246.668335 \nL 327.037009 246.416776 \nL 332.160976 246.326449 \nL 337.284943 245.966519 \nL 342.40891 245.72832 \nL 347.532877 245.524345 \nL 352.656844 245.433372 \nL 357.780811 245.06519 \nL 362.904778 244.662902 \nL 368.028745 244.921434 \nL 373.152712 244.189204 \nL 378.276679 243.728326 \nL 383.400646 243.38156 \nL 388.524613 242.604214 \nL 393.64858 242.408653 \nL 398.772546 242.039474 \nL 403.896513 242.058158 \nL 409.02048 242.026708 \nL 414.144447 241.853782 \nL 419.268414 242.237214 \nL 424.392381 241.754026 \nL 429.516348 240.771504 \nL 434.640315 240.918822 \nL 439.764282 240.878563 \nL 444.888249 239.83648 \nL 450.012216 240.50103 \nL 455.136183 239.987249 \nL 460.26015 240.030785 \nL 465.384117 239.494447 \nL 470.508084 239.441073 \nL 475.632051 239.391389 \nL 480.756018 239.620333 \nL 485.879985 238.874199 \nL 491.003951 238.368335 \nL 496.127918 238.330551 \nL 501.251885 237.858546 \nL 506.375852 237.546711 \nL 511.499819 237.496349 \nL 516.623786 237.316152 \nL 521.747753 237.243541 \nL 526.87172 236.587286 \nL 531.995687 236.594319 \nL 537.119654 236.649665 \nL 542.243621 236.250752 \nL 547.367588 236.806648 \nL 552.491555 236.358615 \nL 557.615522 235.403284 \nL 562.739489 235.550096 \n\" clip-path=\"url(#pf817303a1c)\" style=\"fill: none; stroke-dasharray: 5.55,2.4; stroke-dashoffset: 0; stroke: #bf00bf; stroke-width: 1.5\"/>\n   </g>\n   <g id=\"line2d_33\">\n    <path d=\"M 55.466761 51.272974 \nL 60.590728 65.607436 \nL 65.714695 69.788497 \nL 70.838662 70.8843 \nL 75.962629 71.746588 \nL 81.086596 69.667806 \nL 86.210563 72.175184 \nL 91.33453 75.955651 \nL 96.458497 75.652284 \nL 101.582464 77.819473 \nL 106.706431 77.358735 \nL 111.830398 78.74507 \nL 116.954365 80.155795 \nL 122.078332 80.16851 \nL 127.202299 80.163938 \nL 132.326265 80.001567 \nL 137.450232 81.056934 \nL 142.574199 80.305381 \nL 147.698166 80.973331 \nL 152.822133 80.221005 \nL 157.9461 81.221677 \nL 163.070067 80.756872 \nL 168.194034 81.384863 \nL 173.318001 81.760506 \nL 178.441968 81.685854 \nL 183.565935 78.814025 \nL 188.689902 81.364955 \nL 193.813869 81.123756 \nL 198.937836 80.14956 \nL 204.061803 81.346484 \nL 209.18577 81.64146 \nL 214.309737 80.883876 \nL 219.433704 79.713106 \nL 224.55767 79.725905 \nL 229.681637 79.797017 \nL 234.805604 80.491571 \nL 239.929571 79.585213 \nL 245.053538 77.881953 \nL 250.177505 76.734984 \nL 255.301472 76.430849 \nL 260.425439 76.1602 \nL 265.549406 74.918843 \nL 270.673373 74.37612 \nL 275.79734 73.371293 \nL 280.921307 73.833372 \nL 286.045274 71.540141 \nL 291.169241 71.1555 \nL 296.293208 70.277027 \nL 301.417175 69.288091 \nL 306.541142 68.076776 \nL 311.665108 67.187419 \nL 316.789075 67.792134 \nL 321.913042 65.729933 \nL 327.037009 66.572582 \nL 332.160976 65.219725 \nL 337.284943 65.185992 \nL 342.40891 63.08665 \nL 347.532877 63.330818 \nL 352.656844 59.198984 \nL 357.780811 61.715666 \nL 362.904778 60.869891 \nL 368.028745 59.919044 \nL 373.152712 60.497181 \nL 378.276679 59.255437 \nL 383.400646 56.83718 \nL 388.524613 57.307441 \nL 393.64858 55.458738 \nL 398.772546 55.633408 \nL 403.896513 55.721936 \nL 409.02048 54.605687 \nL 414.144447 54.56685 \nL 419.268414 53.075285 \nL 424.392381 54.888157 \nL 429.516348 53.292669 \nL 434.640315 51.934052 \nL 439.764282 52.97297 \nL 444.888249 49.770083 \nL 450.012216 49.9175 \nL 455.136183 49.900133 \nL 460.26015 47.639119 \nL 465.384117 47.925713 \nL 470.508084 47.809081 \nL 475.632051 46.771886 \nL 480.756018 45.69776 \nL 485.879985 46.457218 \nL 491.003951 45.557797 \nL 496.127918 45.342742 \nL 501.251885 45.029773 \nL 506.375852 43.467605 \nL 511.499819 41.202678 \nL 516.623786 43.515789 \nL 521.747753 40.329794 \nL 526.87172 40.329177 \nL 531.995687 38.30896 \nL 537.119654 36.118456 \nL 542.243621 35.153659 \nL 547.367588 37.995052 \nL 552.491555 38.602399 \nL 557.615522 34.254255 \nL 562.739489 35.217473 \n\" clip-path=\"url(#pf817303a1c)\" style=\"fill: none; stroke-dasharray: 9.6,2.4,1.5,2.4; stroke-dashoffset: 0; stroke: #008000; stroke-width: 1.5\"/>\n   </g>\n   <g id=\"line2d_34\">\n    <path d=\"M 55.466761 267.70007 \nL 60.590728 267.360499 \nL 65.714695 266.657225 \nL 70.838662 266.770349 \nL 75.962629 265.965373 \nL 81.086596 266.533687 \nL 86.210563 265.735629 \nL 91.33453 264.99091 \nL 96.458497 265.311906 \nL 101.582464 264.854822 \nL 106.706431 264.401112 \nL 111.830398 264.131614 \nL 116.954365 263.892153 \nL 122.078332 263.779968 \nL 127.202299 263.779729 \nL 132.326265 263.537699 \nL 137.450232 263.201615 \nL 142.574199 263.067077 \nL 147.698166 263.109658 \nL 152.822133 262.834938 \nL 157.9461 262.480099 \nL 163.070067 262.809595 \nL 168.194034 262.321664 \nL 173.318001 262.492887 \nL 178.441968 262.248387 \nL 183.565935 262.631521 \nL 188.689902 262.007498 \nL 193.813869 262.092127 \nL 198.937836 262.097269 \nL 204.061803 261.772388 \nL 209.18577 261.780264 \nL 214.309737 261.496676 \nL 219.433704 261.70117 \nL 224.55767 261.835247 \nL 229.681637 261.593934 \nL 234.805604 261.338085 \nL 239.929571 261.483199 \nL 245.053538 261.806972 \nL 250.177505 262.026879 \nL 255.301472 261.853653 \nL 260.425439 261.876845 \nL 265.549406 261.830185 \nL 270.673373 261.390562 \nL 275.79734 261.789856 \nL 280.921307 261.877531 \nL 286.045274 262.367167 \nL 291.169241 262.038216 \nL 296.293208 261.976721 \nL 301.417175 261.599538 \nL 306.541142 262.089085 \nL 311.665108 262.217007 \nL 316.789075 261.938054 \nL 321.913042 262.314535 \nL 327.037009 261.736555 \nL 332.160976 262.031703 \nL 337.284943 262.341201 \nL 342.40891 262.151818 \nL 347.532877 262.296992 \nL 352.656844 262.758014 \nL 357.780811 263.011749 \nL 362.904778 262.602082 \nL 368.028745 262.213892 \nL 373.152712 261.913862 \nL 378.276679 262.361031 \nL 383.400646 262.330023 \nL 388.524613 262.188788 \nL 393.64858 262.187513 \nL 398.772546 262.208189 \nL 403.896513 261.807735 \nL 409.02048 262.576432 \nL 414.144447 262.266749 \nL 419.268414 262.629711 \nL 424.392381 262.439537 \nL 429.516348 262.479076 \nL 434.640315 262.490034 \nL 439.764282 262.491979 \nL 444.888249 262.577858 \nL 450.012216 262.907064 \nL 455.136183 262.636701 \nL 460.26015 262.772044 \nL 465.384117 262.623051 \nL 470.508084 262.825862 \nL 475.632051 262.510002 \nL 480.756018 262.386576 \nL 485.879985 262.587295 \nL 491.003951 262.599467 \nL 496.127918 263.152925 \nL 501.251885 262.144596 \nL 506.375852 262.747496 \nL 511.499819 263.071646 \nL 516.623786 263.13912 \nL 521.747753 262.827745 \nL 526.87172 262.333292 \nL 531.995687 263.148865 \nL 537.119654 263.490481 \nL 542.243621 263.620371 \nL 547.367588 262.87096 \nL 552.491555 263.296575 \nL 557.615522 263.269739 \nL 562.739489 262.547891 \n\" clip-path=\"url(#pf817303a1c)\" style=\"fill: none; stroke-dasharray: 1.5,2.475; stroke-dashoffset: 0; stroke: #ff0000; stroke-width: 1.5\"/>\n   </g>\n   <g id=\"patch_3\">\n    <path d=\"M 30.103125 284.4 \nL 30.103125 7.2 \n\" style=\"fill: none; stroke: #000000; stroke-width: 0.8; stroke-linejoin: miter; stroke-linecap: square\"/>\n   </g>\n   <g id=\"patch_4\">\n    <path d=\"M 588.103125 284.4 \nL 588.103125 7.2 \n\" style=\"fill: none; stroke: #000000; stroke-width: 0.8; stroke-linejoin: miter; stroke-linecap: square\"/>\n   </g>\n   <g id=\"patch_5\">\n    <path d=\"M 30.103125 284.4 \nL 588.103125 284.4 \n\" style=\"fill: none; stroke: #000000; stroke-width: 0.8; stroke-linejoin: miter; stroke-linecap: square\"/>\n   </g>\n   <g id=\"patch_6\">\n    <path d=\"M 30.103125 7.2 \nL 588.103125 7.2 \n\" style=\"fill: none; stroke: #000000; stroke-width: 0.8; stroke-linejoin: miter; stroke-linecap: square\"/>\n   </g>\n   <g id=\"legend_1\">\n    <g id=\"patch_7\">\n     <path d=\"M 37.103125 176.65625 \nL 140.83125 176.65625 \nQ 142.83125 176.65625 142.83125 174.65625 \nL 142.83125 116.94375 \nQ 142.83125 114.94375 140.83125 114.94375 \nL 37.103125 114.94375 \nQ 35.103125 114.94375 35.103125 116.94375 \nL 35.103125 174.65625 \nQ 35.103125 176.65625 37.103125 176.65625 \nz\n\" style=\"fill: #ffffff; opacity: 0.8; stroke: #cccccc; stroke-linejoin: miter\"/>\n    </g>\n    <g id=\"line2d_35\">\n     <path d=\"M 39.103125 123.042188 \nL 49.103125 123.042188 \nL 59.103125 123.042188 \n\" style=\"fill: none; stroke: #1f77b4; stroke-width: 1.5; stroke-linecap: square\"/>\n    </g>\n    <g id=\"text_17\">\n     <!-- train loss -->\n     <g transform=\"translate(67.103125 126.542188) scale(0.1 -0.1)\">\n      <defs>\n       <path id=\"DejaVuSans-74\" d=\"M 1172 4494 \nL 1172 3500 \nL 2356 3500 \nL 2356 3053 \nL 1172 3053 \nL 1172 1153 \nQ 1172 725 1289 603 \nQ 1406 481 1766 481 \nL 2356 481 \nL 2356 0 \nL 1766 0 \nQ 1100 0 847 248 \nQ 594 497 594 1153 \nL 594 3053 \nL 172 3053 \nL 172 3500 \nL 594 3500 \nL 594 4494 \nL 1172 4494 \nz\n\" transform=\"scale(0.015625)\"/>\n       <path id=\"DejaVuSans-72\" d=\"M 2631 2963 \nQ 2534 3019 2420 3045 \nQ 2306 3072 2169 3072 \nQ 1681 3072 1420 2755 \nQ 1159 2438 1159 1844 \nL 1159 0 \nL 581 0 \nL 581 3500 \nL 1159 3500 \nL 1159 2956 \nQ 1341 3275 1631 3429 \nQ 1922 3584 2338 3584 \nQ 2397 3584 2469 3576 \nQ 2541 3569 2628 3553 \nL 2631 2963 \nz\n\" transform=\"scale(0.015625)\"/>\n       <path id=\"DejaVuSans-61\" d=\"M 2194 1759 \nQ 1497 1759 1228 1600 \nQ 959 1441 959 1056 \nQ 959 750 1161 570 \nQ 1363 391 1709 391 \nQ 2188 391 2477 730 \nQ 2766 1069 2766 1631 \nL 2766 1759 \nL 2194 1759 \nz\nM 3341 1997 \nL 3341 0 \nL 2766 0 \nL 2766 531 \nQ 2569 213 2275 61 \nQ 1981 -91 1556 -91 \nQ 1019 -91 701 211 \nQ 384 513 384 1019 \nQ 384 1609 779 1909 \nQ 1175 2209 1959 2209 \nL 2766 2209 \nL 2766 2266 \nQ 2766 2663 2505 2880 \nQ 2244 3097 1772 3097 \nQ 1472 3097 1187 3025 \nQ 903 2953 641 2809 \nL 641 3341 \nQ 956 3463 1253 3523 \nQ 1550 3584 1831 3584 \nQ 2591 3584 2966 3190 \nQ 3341 2797 3341 1997 \nz\n\" transform=\"scale(0.015625)\"/>\n       <path id=\"DejaVuSans-69\" d=\"M 603 3500 \nL 1178 3500 \nL 1178 0 \nL 603 0 \nL 603 3500 \nz\nM 603 4863 \nL 1178 4863 \nL 1178 4134 \nL 603 4134 \nL 603 4863 \nz\n\" transform=\"scale(0.015625)\"/>\n       <path id=\"DejaVuSans-6e\" d=\"M 3513 2113 \nL 3513 0 \nL 2938 0 \nL 2938 2094 \nQ 2938 2591 2744 2837 \nQ 2550 3084 2163 3084 \nQ 1697 3084 1428 2787 \nQ 1159 2491 1159 1978 \nL 1159 0 \nL 581 0 \nL 581 3500 \nL 1159 3500 \nL 1159 2956 \nQ 1366 3272 1645 3428 \nQ 1925 3584 2291 3584 \nQ 2894 3584 3203 3211 \nQ 3513 2838 3513 2113 \nz\n\" transform=\"scale(0.015625)\"/>\n       <path id=\"DejaVuSans-20\" transform=\"scale(0.015625)\"/>\n       <path id=\"DejaVuSans-6c\" d=\"M 603 4863 \nL 1178 4863 \nL 1178 0 \nL 603 0 \nL 603 4863 \nz\n\" transform=\"scale(0.015625)\"/>\n       <path id=\"DejaVuSans-73\" d=\"M 2834 3397 \nL 2834 2853 \nQ 2591 2978 2328 3040 \nQ 2066 3103 1784 3103 \nQ 1356 3103 1142 2972 \nQ 928 2841 928 2578 \nQ 928 2378 1081 2264 \nQ 1234 2150 1697 2047 \nL 1894 2003 \nQ 2506 1872 2764 1633 \nQ 3022 1394 3022 966 \nQ 3022 478 2636 193 \nQ 2250 -91 1575 -91 \nQ 1294 -91 989 -36 \nQ 684 19 347 128 \nL 347 722 \nQ 666 556 975 473 \nQ 1284 391 1588 391 \nQ 1994 391 2212 530 \nQ 2431 669 2431 922 \nQ 2431 1156 2273 1281 \nQ 2116 1406 1581 1522 \nL 1381 1569 \nQ 847 1681 609 1914 \nQ 372 2147 372 2553 \nQ 372 3047 722 3315 \nQ 1072 3584 1716 3584 \nQ 2034 3584 2315 3537 \nQ 2597 3491 2834 3397 \nz\n\" transform=\"scale(0.015625)\"/>\n      </defs>\n      <use xlink:href=\"#DejaVuSans-74\"/>\n      <use xlink:href=\"#DejaVuSans-72\" x=\"39.208984\"/>\n      <use xlink:href=\"#DejaVuSans-61\" x=\"80.322266\"/>\n      <use xlink:href=\"#DejaVuSans-69\" x=\"141.601562\"/>\n      <use xlink:href=\"#DejaVuSans-6e\" x=\"169.384766\"/>\n      <use xlink:href=\"#DejaVuSans-20\" x=\"232.763672\"/>\n      <use xlink:href=\"#DejaVuSans-6c\" x=\"264.550781\"/>\n      <use xlink:href=\"#DejaVuSans-6f\" x=\"292.333984\"/>\n      <use xlink:href=\"#DejaVuSans-73\" x=\"353.515625\"/>\n      <use xlink:href=\"#DejaVuSans-73\" x=\"405.615234\"/>\n     </g>\n    </g>\n    <g id=\"line2d_36\">\n     <path d=\"M 39.103125 137.720313 \nL 49.103125 137.720313 \nL 59.103125 137.720313 \n\" style=\"fill: none; stroke-dasharray: 5.55,2.4; stroke-dashoffset: 0; stroke: #bf00bf; stroke-width: 1.5\"/>\n    </g>\n    <g id=\"text_18\">\n     <!-- train acc -->\n     <g transform=\"translate(67.103125 141.220313) scale(0.1 -0.1)\">\n      <use xlink:href=\"#DejaVuSans-74\"/>\n      <use xlink:href=\"#DejaVuSans-72\" x=\"39.208984\"/>\n      <use xlink:href=\"#DejaVuSans-61\" x=\"80.322266\"/>\n      <use xlink:href=\"#DejaVuSans-69\" x=\"141.601562\"/>\n      <use xlink:href=\"#DejaVuSans-6e\" x=\"169.384766\"/>\n      <use xlink:href=\"#DejaVuSans-20\" x=\"232.763672\"/>\n      <use xlink:href=\"#DejaVuSans-61\" x=\"264.550781\"/>\n      <use xlink:href=\"#DejaVuSans-63\" x=\"325.830078\"/>\n      <use xlink:href=\"#DejaVuSans-63\" x=\"380.810547\"/>\n     </g>\n    </g>\n    <g id=\"line2d_37\">\n     <path d=\"M 39.103125 152.398438 \nL 49.103125 152.398438 \nL 59.103125 152.398438 \n\" style=\"fill: none; stroke-dasharray: 9.6,2.4,1.5,2.4; stroke-dashoffset: 0; stroke: #008000; stroke-width: 1.5\"/>\n    </g>\n    <g id=\"text_19\">\n     <!-- validation loss -->\n     <g transform=\"translate(67.103125 155.898438) scale(0.1 -0.1)\">\n      <defs>\n       <path id=\"DejaVuSans-76\" d=\"M 191 3500 \nL 800 3500 \nL 1894 563 \nL 2988 3500 \nL 3597 3500 \nL 2284 0 \nL 1503 0 \nL 191 3500 \nz\n\" transform=\"scale(0.015625)\"/>\n       <path id=\"DejaVuSans-64\" d=\"M 2906 2969 \nL 2906 4863 \nL 3481 4863 \nL 3481 0 \nL 2906 0 \nL 2906 525 \nQ 2725 213 2448 61 \nQ 2172 -91 1784 -91 \nQ 1150 -91 751 415 \nQ 353 922 353 1747 \nQ 353 2572 751 3078 \nQ 1150 3584 1784 3584 \nQ 2172 3584 2448 3432 \nQ 2725 3281 2906 2969 \nz\nM 947 1747 \nQ 947 1113 1208 752 \nQ 1469 391 1925 391 \nQ 2381 391 2643 752 \nQ 2906 1113 2906 1747 \nQ 2906 2381 2643 2742 \nQ 2381 3103 1925 3103 \nQ 1469 3103 1208 2742 \nQ 947 2381 947 1747 \nz\n\" transform=\"scale(0.015625)\"/>\n      </defs>\n      <use xlink:href=\"#DejaVuSans-76\"/>\n      <use xlink:href=\"#DejaVuSans-61\" x=\"59.179688\"/>\n      <use xlink:href=\"#DejaVuSans-6c\" x=\"120.458984\"/>\n      <use xlink:href=\"#DejaVuSans-69\" x=\"148.242188\"/>\n      <use xlink:href=\"#DejaVuSans-64\" x=\"176.025391\"/>\n      <use xlink:href=\"#DejaVuSans-61\" x=\"239.501953\"/>\n      <use xlink:href=\"#DejaVuSans-74\" x=\"300.78125\"/>\n      <use xlink:href=\"#DejaVuSans-69\" x=\"339.990234\"/>\n      <use xlink:href=\"#DejaVuSans-6f\" x=\"367.773438\"/>\n      <use xlink:href=\"#DejaVuSans-6e\" x=\"428.955078\"/>\n      <use xlink:href=\"#DejaVuSans-20\" x=\"492.333984\"/>\n      <use xlink:href=\"#DejaVuSans-6c\" x=\"524.121094\"/>\n      <use xlink:href=\"#DejaVuSans-6f\" x=\"551.904297\"/>\n      <use xlink:href=\"#DejaVuSans-73\" x=\"613.085938\"/>\n      <use xlink:href=\"#DejaVuSans-73\" x=\"665.185547\"/>\n     </g>\n    </g>\n    <g id=\"line2d_38\">\n     <path d=\"M 39.103125 167.076563 \nL 49.103125 167.076563 \nL 59.103125 167.076563 \n\" style=\"fill: none; stroke-dasharray: 1.5,2.475; stroke-dashoffset: 0; stroke: #ff0000; stroke-width: 1.5\"/>\n    </g>\n    <g id=\"text_20\">\n     <!-- validation acc -->\n     <g transform=\"translate(67.103125 170.576563) scale(0.1 -0.1)\">\n      <use xlink:href=\"#DejaVuSans-76\"/>\n      <use xlink:href=\"#DejaVuSans-61\" x=\"59.179688\"/>\n      <use xlink:href=\"#DejaVuSans-6c\" x=\"120.458984\"/>\n      <use xlink:href=\"#DejaVuSans-69\" x=\"148.242188\"/>\n      <use xlink:href=\"#DejaVuSans-64\" x=\"176.025391\"/>\n      <use xlink:href=\"#DejaVuSans-61\" x=\"239.501953\"/>\n      <use xlink:href=\"#DejaVuSans-74\" x=\"300.78125\"/>\n      <use xlink:href=\"#DejaVuSans-69\" x=\"339.990234\"/>\n      <use xlink:href=\"#DejaVuSans-6f\" x=\"367.773438\"/>\n      <use xlink:href=\"#DejaVuSans-6e\" x=\"428.955078\"/>\n      <use xlink:href=\"#DejaVuSans-20\" x=\"492.333984\"/>\n      <use xlink:href=\"#DejaVuSans-61\" x=\"524.121094\"/>\n      <use xlink:href=\"#DejaVuSans-63\" x=\"585.400391\"/>\n      <use xlink:href=\"#DejaVuSans-63\" x=\"640.380859\"/>\n     </g>\n    </g>\n   </g>\n  </g>\n </g>\n <defs>\n  <clipPath id=\"pf817303a1c\">\n   <rect x=\"30.103125\" y=\"7.2\" width=\"558\" height=\"277.2\"/>\n  </clipPath>\n </defs>\n</svg>\n"
     },
     "metadata": {},
     "output_type": "display_data"
    }
   ],
   "source": [
    "network = TransformerNetwork()\n",
    "train(network, data_loaders, device=device)"
   ]
  },
  {
   "cell_type": "markdown",
   "metadata": {},
   "source": [
    "**(d) Briefly discuss the results. Has the training converged? Is this a good calculator?<span style=\"float:right\"> (1 point)</span>**"
   ]
  },
  {
   "cell_type": "markdown",
   "metadata": {},
   "source": [
    "TODO: Your answer here.\n",
    "The model does not perform well, we can see a clear overfitting, and the validation loss is not better than 44%. One reason could be that the network does not take the order of the input into account yet."
   ]
  },
  {
   "cell_type": "markdown",
   "metadata": {},
   "source": [
    "**(e) Run the trained network with input `\"123+123\"` and `\"321+321\"`.<span style=\"float:right\"> (1 point)</span>**"
   ]
  },
  {
   "cell_type": "code",
   "execution_count": 36,
   "metadata": {
    "ExecuteTime": {
     "end_time": "2023-10-07T07:40:51.227079434Z",
     "start_time": "2023-10-07T07:40:51.142988601Z"
    }
   },
   "outputs": [
    {
     "name": "stdout",
     "output_type": "stream",
     "text": [
      "For 123+123=246\n",
      "  y_pred[0] tensor([[-0.7356,  0.4237, -0.7857,  0.3885, -0.3068,  0.6004,  0.4284, -0.2714,\n",
      "          0.8061,  1.0024,  0.2970, -0.8095,  0.4654, -0.1554, -0.3356,  0.0296],\n",
      "        [ 0.0832,  0.6036, -0.8627, -0.2697,  0.6334, -0.4826,  0.5075, -0.2335,\n",
      "          1.0417,  1.8635,  0.0427, -0.0975, -0.5620,  0.4082, -0.4454, -0.9491],\n",
      "        [-0.2548,  0.6432, -0.8311, -0.2942, -0.4962,  0.4114,  0.6600,  0.4026,\n",
      "          0.4954,  1.0918, -0.3835, -0.3075,  0.0599,  0.4884, -0.2594, -0.2481],\n",
      "        [ 0.2240,  0.5005,  0.0789,  0.1401,  0.3031, -0.3301,  1.0849, -0.3231,\n",
      "          1.2835,  1.1729, -0.2676, -1.0517, -0.6085,  0.0444,  0.1754, -1.1944]],\n",
      "       device='cuda:0')\n",
      "  encoded tensor([[9, 9, 9, 8]], device='cuda:0')\n",
      "  tokens [['7' '7' '7' '6']]\n",
      "\n",
      "For 321+321=642\n",
      "  y_pred[0] tensor([[-0.7356,  0.4237, -0.7857,  0.3885, -0.3068,  0.6004,  0.4284, -0.2714,\n",
      "          0.8061,  1.0024,  0.2970, -0.8095,  0.4654, -0.1554, -0.3356,  0.0296],\n",
      "        [-0.0337,  0.5069, -0.1745,  0.0307,  0.2426, -0.4558,  0.9523, -0.1637,\n",
      "          1.3345,  1.1948, -0.3355, -1.0321, -0.6513, -0.0831,  0.0454, -1.1034],\n",
      "        [-0.2718,  0.7707, -0.8317, -0.2132, -0.6229, -0.1541,  0.7700,  0.2730,\n",
      "          0.6880,  1.0680, -0.4037, -0.5893,  0.1410,  0.5965, -0.3549, -0.3377],\n",
      "        [ 0.2224,  0.8190, -0.5620, -0.0868,  0.3063, -0.9347,  0.8363, -0.3862,\n",
      "          1.0232,  1.8928, -0.0895, -0.1119, -0.4690,  0.7725, -0.5401, -0.9356]],\n",
      "       device='cuda:0')\n",
      "  encoded tensor([[9, 8, 9, 9]], device='cuda:0')\n",
      "  tokens [['7' '6' '7' '7']]\n"
     ]
    },
    {
     "name": "stderr",
     "output_type": "stream",
     "text": [
      "/home/max/DataspellProjects/ru-deep-learning-23-24/venv/lib/python3.11/site-packages/torch/nn/modules/transformer.py:296: UserWarning: The PyTorch API of nested tensors is in prototype stage and will change in the near future. (Triggered internally at ../aten/src/ATen/NestedTensorImpl.cpp:177.)\n",
      "  output = torch._nested_tensor_from_mask(output, src_key_padding_mask.logical_not(), mask_check=False)\n",
      "/home/max/DataspellProjects/ru-deep-learning-23-24/venv/lib/python3.11/site-packages/torch/nn/modules/activation.py:1160: UserWarning: Converting mask without torch.bool dtype to bool; this will negatively affect performance. Prefer to use a boolean mask directly. (Triggered internally at ../aten/src/ATen/native/transformers/attention.cpp:150.)\n",
      "  return torch._native_multi_head_attention(\n"
     ]
    }
   ],
   "source": [
    "def predict(net, q, a):\n",
    "    # Run net to predict the output given the input `q` and y_prev based on `a`.\n",
    "    # Return predicted y\n",
    "    with torch.no_grad():\n",
    "        q = torch.tensor(tokenize_and_encode(q, vocab), device=device)\n",
    "        a = torch.tensor(tokenize_and_encode(a, vocab), device=device)\n",
    "        a = a.expand(1, a.shape[0])\n",
    "        q = q.expand(1, q.shape[0])\n",
    "\n",
    "        bos = torch.tensor(vocab['<bos>']).expand(a.shape[0], 1)\n",
    "        bos = bos.to(device)\n",
    "        y_prev = torch.cat((bos, a[:, :-1]), axis=1)\n",
    "\n",
    "        return net.forward(q, y_prev)\n",
    "\n",
    "\n",
    "for src, tgt in [('123+123', '246'), ('321+321', '642')]:\n",
    "    print(f'For {src}={tgt}')\n",
    "    y_pred = predict(net, src, tgt)\n",
    "    print('  y_pred[0]', y_pred[0])\n",
    "    print('  encoded', torch.argmax(y_pred, dim=-1))\n",
    "    print('  tokens', decode_tokens(torch.argmax(y_pred, dim=-1)))\n",
    "    print()"
   ]
  },
  {
   "cell_type": "markdown",
   "metadata": {},
   "source": [
    "**(f) Compare the predictions for the first element of y with the two different inputs. Can you explain what happens?<span style=\"float:right\"> (1 point)</span>**"
   ]
  },
  {
   "cell_type": "markdown",
   "metadata": {},
   "source": [
    "The first element of the prediction is the same. This is because the transformer network is agnostic to the order of inputs, and therefore, both inputs look the same to the network. When predicting, the first token of `y_prev` is the same for both sequences. Therefore, the first digit has the exact same input and thus the same output. The tokens predicted afterward are different, as the values of `y_prev` do now differ for both queries."
   ]
  },
  {
   "cell_type": "markdown",
   "metadata": {},
   "source": [
    "**(g) Does the validation accuracy estimate how often the model is able to answers formulas correctly? Explain your answer.<span style=\"float:right\"> (1 point)</span>**"
   ]
  },
  {
   "cell_type": "markdown",
   "metadata": {},
   "source": [
    "TODO: Your answer here."
   ]
  },
  {
   "cell_type": "markdown",
   "metadata": {},
   "source": [
    "**(h) If the forward function takes the shifted output `y_prev` as input, how can we use it if we don't know the output yet?<span style=\"float:right\"> (1 point)</span>**"
   ]
  },
  {
   "cell_type": "markdown",
   "metadata": {},
   "source": [
    "TODO: Your answer here.\n",
    "We can feed it the output we have generated so far for every step."
   ]
  },
  {
   "cell_type": "markdown",
   "metadata": {},
   "source": [
    "## 5.5 Positional encoding (5 points)\n",
    "\n",
    "We did not yet include positional encoding in the network.\n",
    "PyTorch does not include such an encoder, so here we copied the code from the book (slightly modified):"
   ]
  },
  {
   "cell_type": "code",
   "execution_count": 37,
   "metadata": {
    "ExecuteTime": {
     "end_time": "2023-10-07T07:40:51.227330671Z",
     "start_time": "2023-10-07T07:40:51.162839675Z"
    }
   },
   "outputs": [],
   "source": [
    "class PositionalEncoding(nn.Module):\n",
    "    \"\"\"Positional encoding.\"\"\"\n",
    "\n",
    "    def __init__(self, num_hiddens, max_len=1000):\n",
    "        super().__init__()\n",
    "        # Create a long enough P\n",
    "        self.P = torch.zeros((1, max_len, num_hiddens))\n",
    "        X = torch.arange(max_len, dtype=torch.float32).reshape(\n",
    "            -1, 1) / torch.pow(10000, torch.arange(\n",
    "            0, num_hiddens, 2, dtype=torch.float32) / num_hiddens)\n",
    "        self.P[:, :, 0::2] = torch.sin(X)\n",
    "        self.P[:, :, 1::2] = torch.cos(X)\n",
    "\n",
    "    def forward(self, X):\n",
    "        return X + self.P[:, :X.shape[1], :].to(X.device)"
   ]
  },
  {
   "cell_type": "markdown",
   "metadata": {},
   "source": [
    "**(a) Add positional encoding to the TransformerModel.<span style=\"float:right\"> (point given in earlier question)</span>**"
   ]
  },
  {
   "cell_type": "code",
   "execution_count": 38,
   "metadata": {
    "ExecuteTime": {
     "end_time": "2023-10-07T07:40:51.239596267Z",
     "start_time": "2023-10-07T07:40:51.166886304Z"
    }
   },
   "outputs": [],
   "source": [
    "# TODO: See over there."
   ]
  },
  {
   "cell_type": "markdown",
   "metadata": {},
   "source": [
    "**(b) Construct and train a network with positional encoding<span style=\"float:right\"> (1 point)</span>**"
   ]
  },
  {
   "cell_type": "code",
   "execution_count": 39,
   "metadata": {},
   "outputs": [
    {
     "name": "stdout",
     "output_type": "stream",
     "text": [
      "train loss 0.084, train acc 0.974, val loss 0.046, val acc 0.988\n",
      "11619.0 examples/sec on cuda:0\n"
     ]
    },
    {
     "data": {
      "text/plain": "<Figure size 1000x500 with 1 Axes>",
      "image/svg+xml": "<?xml version=\"1.0\" encoding=\"utf-8\" standalone=\"no\"?>\n<!DOCTYPE svg PUBLIC \"-//W3C//DTD SVG 1.1//EN\"\n  \"http://www.w3.org/Graphics/SVG/1.1/DTD/svg11.dtd\">\n<svg xmlns:xlink=\"http://www.w3.org/1999/xlink\" width=\"601.665625pt\" height=\"321.95625pt\" viewBox=\"0 0 601.665625 321.95625\" xmlns=\"http://www.w3.org/2000/svg\" version=\"1.1\">\n <metadata>\n  <rdf:RDF xmlns:dc=\"http://purl.org/dc/elements/1.1/\" xmlns:cc=\"http://creativecommons.org/ns#\" xmlns:rdf=\"http://www.w3.org/1999/02/22-rdf-syntax-ns#\">\n   <cc:Work>\n    <dc:type rdf:resource=\"http://purl.org/dc/dcmitype/StillImage\"/>\n    <dc:date>2023-10-07T09:43:24.077035</dc:date>\n    <dc:format>image/svg+xml</dc:format>\n    <dc:creator>\n     <cc:Agent>\n      <dc:title>Matplotlib v3.7.2, https://matplotlib.org/</dc:title>\n     </cc:Agent>\n    </dc:creator>\n   </cc:Work>\n  </rdf:RDF>\n </metadata>\n <defs>\n  <style type=\"text/css\">*{stroke-linejoin: round; stroke-linecap: butt}</style>\n </defs>\n <g id=\"figure_1\">\n  <g id=\"patch_1\">\n   <path d=\"M 0 321.95625 \nL 601.665625 321.95625 \nL 601.665625 0 \nL 0 0 \nz\n\" style=\"fill: #ffffff\"/>\n  </g>\n  <g id=\"axes_1\">\n   <g id=\"patch_2\">\n    <path d=\"M 36.465625 284.4 \nL 594.465625 284.4 \nL 594.465625 7.2 \nL 36.465625 7.2 \nz\n\" style=\"fill: #ffffff\"/>\n   </g>\n   <g id=\"matplotlib.axis_1\">\n    <g id=\"xtick_1\">\n     <g id=\"line2d_1\">\n      <path d=\"M 56.705294 284.4 \nL 56.705294 7.2 \n\" clip-path=\"url(#p56e1080392)\" style=\"fill: none; stroke: #b0b0b0; stroke-width: 0.8; stroke-linecap: square\"/>\n     </g>\n     <g id=\"line2d_2\">\n      <defs>\n       <path id=\"mf636edc917\" d=\"M 0 0 \nL 0 3.5 \n\" style=\"stroke: #000000; stroke-width: 0.8\"/>\n      </defs>\n      <g>\n       <use xlink:href=\"#mf636edc917\" x=\"56.705294\" y=\"284.4\" style=\"stroke: #000000; stroke-width: 0.8\"/>\n      </g>\n     </g>\n     <g id=\"text_1\">\n      <!-- 0 -->\n      <g transform=\"translate(53.524044 298.998438) scale(0.1 -0.1)\">\n       <defs>\n        <path id=\"DejaVuSans-30\" d=\"M 2034 4250 \nQ 1547 4250 1301 3770 \nQ 1056 3291 1056 2328 \nQ 1056 1369 1301 889 \nQ 1547 409 2034 409 \nQ 2525 409 2770 889 \nQ 3016 1369 3016 2328 \nQ 3016 3291 2770 3770 \nQ 2525 4250 2034 4250 \nz\nM 2034 4750 \nQ 2819 4750 3233 4129 \nQ 3647 3509 3647 2328 \nQ 3647 1150 3233 529 \nQ 2819 -91 2034 -91 \nQ 1250 -91 836 529 \nQ 422 1150 422 2328 \nQ 422 3509 836 4129 \nQ 1250 4750 2034 4750 \nz\n\" transform=\"scale(0.015625)\"/>\n       </defs>\n       <use xlink:href=\"#DejaVuSans-30\"/>\n      </g>\n     </g>\n    </g>\n    <g id=\"xtick_2\">\n     <g id=\"line2d_3\">\n      <path d=\"M 159.184633 284.4 \nL 159.184633 7.2 \n\" clip-path=\"url(#p56e1080392)\" style=\"fill: none; stroke: #b0b0b0; stroke-width: 0.8; stroke-linecap: square\"/>\n     </g>\n     <g id=\"line2d_4\">\n      <g>\n       <use xlink:href=\"#mf636edc917\" x=\"159.184633\" y=\"284.4\" style=\"stroke: #000000; stroke-width: 0.8\"/>\n      </g>\n     </g>\n     <g id=\"text_2\">\n      <!-- 20 -->\n      <g transform=\"translate(152.822133 298.998438) scale(0.1 -0.1)\">\n       <defs>\n        <path id=\"DejaVuSans-32\" d=\"M 1228 531 \nL 3431 531 \nL 3431 0 \nL 469 0 \nL 469 531 \nQ 828 903 1448 1529 \nQ 2069 2156 2228 2338 \nQ 2531 2678 2651 2914 \nQ 2772 3150 2772 3378 \nQ 2772 3750 2511 3984 \nQ 2250 4219 1831 4219 \nQ 1534 4219 1204 4116 \nQ 875 4013 500 3803 \nL 500 4441 \nQ 881 4594 1212 4672 \nQ 1544 4750 1819 4750 \nQ 2544 4750 2975 4387 \nQ 3406 4025 3406 3419 \nQ 3406 3131 3298 2873 \nQ 3191 2616 2906 2266 \nQ 2828 2175 2409 1742 \nQ 1991 1309 1228 531 \nz\n\" transform=\"scale(0.015625)\"/>\n       </defs>\n       <use xlink:href=\"#DejaVuSans-32\"/>\n       <use xlink:href=\"#DejaVuSans-30\" x=\"63.623047\"/>\n      </g>\n     </g>\n    </g>\n    <g id=\"xtick_3\">\n     <g id=\"line2d_5\">\n      <path d=\"M 261.663972 284.4 \nL 261.663972 7.2 \n\" clip-path=\"url(#p56e1080392)\" style=\"fill: none; stroke: #b0b0b0; stroke-width: 0.8; stroke-linecap: square\"/>\n     </g>\n     <g id=\"line2d_6\">\n      <g>\n       <use xlink:href=\"#mf636edc917\" x=\"261.663972\" y=\"284.4\" style=\"stroke: #000000; stroke-width: 0.8\"/>\n      </g>\n     </g>\n     <g id=\"text_3\">\n      <!-- 40 -->\n      <g transform=\"translate(255.301472 298.998438) scale(0.1 -0.1)\">\n       <defs>\n        <path id=\"DejaVuSans-34\" d=\"M 2419 4116 \nL 825 1625 \nL 2419 1625 \nL 2419 4116 \nz\nM 2253 4666 \nL 3047 4666 \nL 3047 1625 \nL 3713 1625 \nL 3713 1100 \nL 3047 1100 \nL 3047 0 \nL 2419 0 \nL 2419 1100 \nL 313 1100 \nL 313 1709 \nL 2253 4666 \nz\n\" transform=\"scale(0.015625)\"/>\n       </defs>\n       <use xlink:href=\"#DejaVuSans-34\"/>\n       <use xlink:href=\"#DejaVuSans-30\" x=\"63.623047\"/>\n      </g>\n     </g>\n    </g>\n    <g id=\"xtick_4\">\n     <g id=\"line2d_7\">\n      <path d=\"M 364.143311 284.4 \nL 364.143311 7.2 \n\" clip-path=\"url(#p56e1080392)\" style=\"fill: none; stroke: #b0b0b0; stroke-width: 0.8; stroke-linecap: square\"/>\n     </g>\n     <g id=\"line2d_8\">\n      <g>\n       <use xlink:href=\"#mf636edc917\" x=\"364.143311\" y=\"284.4\" style=\"stroke: #000000; stroke-width: 0.8\"/>\n      </g>\n     </g>\n     <g id=\"text_4\">\n      <!-- 60 -->\n      <g transform=\"translate(357.780811 298.998438) scale(0.1 -0.1)\">\n       <defs>\n        <path id=\"DejaVuSans-36\" d=\"M 2113 2584 \nQ 1688 2584 1439 2293 \nQ 1191 2003 1191 1497 \nQ 1191 994 1439 701 \nQ 1688 409 2113 409 \nQ 2538 409 2786 701 \nQ 3034 994 3034 1497 \nQ 3034 2003 2786 2293 \nQ 2538 2584 2113 2584 \nz\nM 3366 4563 \nL 3366 3988 \nQ 3128 4100 2886 4159 \nQ 2644 4219 2406 4219 \nQ 1781 4219 1451 3797 \nQ 1122 3375 1075 2522 \nQ 1259 2794 1537 2939 \nQ 1816 3084 2150 3084 \nQ 2853 3084 3261 2657 \nQ 3669 2231 3669 1497 \nQ 3669 778 3244 343 \nQ 2819 -91 2113 -91 \nQ 1303 -91 875 529 \nQ 447 1150 447 2328 \nQ 447 3434 972 4092 \nQ 1497 4750 2381 4750 \nQ 2619 4750 2861 4703 \nQ 3103 4656 3366 4563 \nz\n\" transform=\"scale(0.015625)\"/>\n       </defs>\n       <use xlink:href=\"#DejaVuSans-36\"/>\n       <use xlink:href=\"#DejaVuSans-30\" x=\"63.623047\"/>\n      </g>\n     </g>\n    </g>\n    <g id=\"xtick_5\">\n     <g id=\"line2d_9\">\n      <path d=\"M 466.62265 284.4 \nL 466.62265 7.2 \n\" clip-path=\"url(#p56e1080392)\" style=\"fill: none; stroke: #b0b0b0; stroke-width: 0.8; stroke-linecap: square\"/>\n     </g>\n     <g id=\"line2d_10\">\n      <g>\n       <use xlink:href=\"#mf636edc917\" x=\"466.62265\" y=\"284.4\" style=\"stroke: #000000; stroke-width: 0.8\"/>\n      </g>\n     </g>\n     <g id=\"text_5\">\n      <!-- 80 -->\n      <g transform=\"translate(460.26015 298.998438) scale(0.1 -0.1)\">\n       <defs>\n        <path id=\"DejaVuSans-38\" d=\"M 2034 2216 \nQ 1584 2216 1326 1975 \nQ 1069 1734 1069 1313 \nQ 1069 891 1326 650 \nQ 1584 409 2034 409 \nQ 2484 409 2743 651 \nQ 3003 894 3003 1313 \nQ 3003 1734 2745 1975 \nQ 2488 2216 2034 2216 \nz\nM 1403 2484 \nQ 997 2584 770 2862 \nQ 544 3141 544 3541 \nQ 544 4100 942 4425 \nQ 1341 4750 2034 4750 \nQ 2731 4750 3128 4425 \nQ 3525 4100 3525 3541 \nQ 3525 3141 3298 2862 \nQ 3072 2584 2669 2484 \nQ 3125 2378 3379 2068 \nQ 3634 1759 3634 1313 \nQ 3634 634 3220 271 \nQ 2806 -91 2034 -91 \nQ 1263 -91 848 271 \nQ 434 634 434 1313 \nQ 434 1759 690 2068 \nQ 947 2378 1403 2484 \nz\nM 1172 3481 \nQ 1172 3119 1398 2916 \nQ 1625 2713 2034 2713 \nQ 2441 2713 2670 2916 \nQ 2900 3119 2900 3481 \nQ 2900 3844 2670 4047 \nQ 2441 4250 2034 4250 \nQ 1625 4250 1398 4047 \nQ 1172 3844 1172 3481 \nz\n\" transform=\"scale(0.015625)\"/>\n       </defs>\n       <use xlink:href=\"#DejaVuSans-38\"/>\n       <use xlink:href=\"#DejaVuSans-30\" x=\"63.623047\"/>\n      </g>\n     </g>\n    </g>\n    <g id=\"xtick_6\">\n     <g id=\"line2d_11\">\n      <path d=\"M 569.101989 284.4 \nL 569.101989 7.2 \n\" clip-path=\"url(#p56e1080392)\" style=\"fill: none; stroke: #b0b0b0; stroke-width: 0.8; stroke-linecap: square\"/>\n     </g>\n     <g id=\"line2d_12\">\n      <g>\n       <use xlink:href=\"#mf636edc917\" x=\"569.101989\" y=\"284.4\" style=\"stroke: #000000; stroke-width: 0.8\"/>\n      </g>\n     </g>\n     <g id=\"text_6\">\n      <!-- 100 -->\n      <g transform=\"translate(559.558239 298.998438) scale(0.1 -0.1)\">\n       <defs>\n        <path id=\"DejaVuSans-31\" d=\"M 794 531 \nL 1825 531 \nL 1825 4091 \nL 703 3866 \nL 703 4441 \nL 1819 4666 \nL 2450 4666 \nL 2450 531 \nL 3481 531 \nL 3481 0 \nL 794 0 \nL 794 531 \nz\n\" transform=\"scale(0.015625)\"/>\n       </defs>\n       <use xlink:href=\"#DejaVuSans-31\"/>\n       <use xlink:href=\"#DejaVuSans-30\" x=\"63.623047\"/>\n       <use xlink:href=\"#DejaVuSans-30\" x=\"127.246094\"/>\n      </g>\n     </g>\n    </g>\n    <g id=\"text_7\">\n     <!-- epoch -->\n     <g transform=\"translate(300.2375 312.676562) scale(0.1 -0.1)\">\n      <defs>\n       <path id=\"DejaVuSans-65\" d=\"M 3597 1894 \nL 3597 1613 \nL 953 1613 \nQ 991 1019 1311 708 \nQ 1631 397 2203 397 \nQ 2534 397 2845 478 \nQ 3156 559 3463 722 \nL 3463 178 \nQ 3153 47 2828 -22 \nQ 2503 -91 2169 -91 \nQ 1331 -91 842 396 \nQ 353 884 353 1716 \nQ 353 2575 817 3079 \nQ 1281 3584 2069 3584 \nQ 2775 3584 3186 3129 \nQ 3597 2675 3597 1894 \nz\nM 3022 2063 \nQ 3016 2534 2758 2815 \nQ 2500 3097 2075 3097 \nQ 1594 3097 1305 2825 \nQ 1016 2553 972 2059 \nL 3022 2063 \nz\n\" transform=\"scale(0.015625)\"/>\n       <path id=\"DejaVuSans-70\" d=\"M 1159 525 \nL 1159 -1331 \nL 581 -1331 \nL 581 3500 \nL 1159 3500 \nL 1159 2969 \nQ 1341 3281 1617 3432 \nQ 1894 3584 2278 3584 \nQ 2916 3584 3314 3078 \nQ 3713 2572 3713 1747 \nQ 3713 922 3314 415 \nQ 2916 -91 2278 -91 \nQ 1894 -91 1617 61 \nQ 1341 213 1159 525 \nz\nM 3116 1747 \nQ 3116 2381 2855 2742 \nQ 2594 3103 2138 3103 \nQ 1681 3103 1420 2742 \nQ 1159 2381 1159 1747 \nQ 1159 1113 1420 752 \nQ 1681 391 2138 391 \nQ 2594 391 2855 752 \nQ 3116 1113 3116 1747 \nz\n\" transform=\"scale(0.015625)\"/>\n       <path id=\"DejaVuSans-6f\" d=\"M 1959 3097 \nQ 1497 3097 1228 2736 \nQ 959 2375 959 1747 \nQ 959 1119 1226 758 \nQ 1494 397 1959 397 \nQ 2419 397 2687 759 \nQ 2956 1122 2956 1747 \nQ 2956 2369 2687 2733 \nQ 2419 3097 1959 3097 \nz\nM 1959 3584 \nQ 2709 3584 3137 3096 \nQ 3566 2609 3566 1747 \nQ 3566 888 3137 398 \nQ 2709 -91 1959 -91 \nQ 1206 -91 779 398 \nQ 353 888 353 1747 \nQ 353 2609 779 3096 \nQ 1206 3584 1959 3584 \nz\n\" transform=\"scale(0.015625)\"/>\n       <path id=\"DejaVuSans-63\" d=\"M 3122 3366 \nL 3122 2828 \nQ 2878 2963 2633 3030 \nQ 2388 3097 2138 3097 \nQ 1578 3097 1268 2742 \nQ 959 2388 959 1747 \nQ 959 1106 1268 751 \nQ 1578 397 2138 397 \nQ 2388 397 2633 464 \nQ 2878 531 3122 666 \nL 3122 134 \nQ 2881 22 2623 -34 \nQ 2366 -91 2075 -91 \nQ 1284 -91 818 406 \nQ 353 903 353 1747 \nQ 353 2603 823 3093 \nQ 1294 3584 2113 3584 \nQ 2378 3584 2631 3529 \nQ 2884 3475 3122 3366 \nz\n\" transform=\"scale(0.015625)\"/>\n       <path id=\"DejaVuSans-68\" d=\"M 3513 2113 \nL 3513 0 \nL 2938 0 \nL 2938 2094 \nQ 2938 2591 2744 2837 \nQ 2550 3084 2163 3084 \nQ 1697 3084 1428 2787 \nQ 1159 2491 1159 1978 \nL 1159 0 \nL 581 0 \nL 581 4863 \nL 1159 4863 \nL 1159 2956 \nQ 1366 3272 1645 3428 \nQ 1925 3584 2291 3584 \nQ 2894 3584 3203 3211 \nQ 3513 2838 3513 2113 \nz\n\" transform=\"scale(0.015625)\"/>\n      </defs>\n      <use xlink:href=\"#DejaVuSans-65\"/>\n      <use xlink:href=\"#DejaVuSans-70\" x=\"61.523438\"/>\n      <use xlink:href=\"#DejaVuSans-6f\" x=\"125\"/>\n      <use xlink:href=\"#DejaVuSans-63\" x=\"186.181641\"/>\n      <use xlink:href=\"#DejaVuSans-68\" x=\"241.162109\"/>\n     </g>\n    </g>\n   </g>\n   <g id=\"matplotlib.axis_2\">\n    <g id=\"ytick_1\">\n     <g id=\"line2d_13\">\n      <path d=\"M 36.465625 277.372437 \nL 594.465625 277.372437 \n\" clip-path=\"url(#p56e1080392)\" style=\"fill: none; stroke: #b0b0b0; stroke-width: 0.8; stroke-linecap: square\"/>\n     </g>\n     <g id=\"line2d_14\">\n      <defs>\n       <path id=\"mde4c9dcb35\" d=\"M 0 0 \nL -3.5 0 \n\" style=\"stroke: #000000; stroke-width: 0.8\"/>\n      </defs>\n      <g>\n       <use xlink:href=\"#mde4c9dcb35\" x=\"36.465625\" y=\"277.372437\" style=\"stroke: #000000; stroke-width: 0.8\"/>\n      </g>\n     </g>\n     <g id=\"text_8\">\n      <!-- 0.00 -->\n      <g transform=\"translate(7.2 281.171656) scale(0.1 -0.1)\">\n       <defs>\n        <path id=\"DejaVuSans-2e\" d=\"M 684 794 \nL 1344 794 \nL 1344 0 \nL 684 0 \nL 684 794 \nz\n\" transform=\"scale(0.015625)\"/>\n       </defs>\n       <use xlink:href=\"#DejaVuSans-30\"/>\n       <use xlink:href=\"#DejaVuSans-2e\" x=\"63.623047\"/>\n       <use xlink:href=\"#DejaVuSans-30\" x=\"95.410156\"/>\n       <use xlink:href=\"#DejaVuSans-30\" x=\"159.033203\"/>\n      </g>\n     </g>\n    </g>\n    <g id=\"ytick_2\">\n     <g id=\"line2d_15\">\n      <path d=\"M 36.465625 244.650995 \nL 594.465625 244.650995 \n\" clip-path=\"url(#p56e1080392)\" style=\"fill: none; stroke: #b0b0b0; stroke-width: 0.8; stroke-linecap: square\"/>\n     </g>\n     <g id=\"line2d_16\">\n      <g>\n       <use xlink:href=\"#mde4c9dcb35\" x=\"36.465625\" y=\"244.650995\" style=\"stroke: #000000; stroke-width: 0.8\"/>\n      </g>\n     </g>\n     <g id=\"text_9\">\n      <!-- 0.25 -->\n      <g transform=\"translate(7.2 248.450214) scale(0.1 -0.1)\">\n       <defs>\n        <path id=\"DejaVuSans-35\" d=\"M 691 4666 \nL 3169 4666 \nL 3169 4134 \nL 1269 4134 \nL 1269 2991 \nQ 1406 3038 1543 3061 \nQ 1681 3084 1819 3084 \nQ 2600 3084 3056 2656 \nQ 3513 2228 3513 1497 \nQ 3513 744 3044 326 \nQ 2575 -91 1722 -91 \nQ 1428 -91 1123 -41 \nQ 819 9 494 109 \nL 494 744 \nQ 775 591 1075 516 \nQ 1375 441 1709 441 \nQ 2250 441 2565 725 \nQ 2881 1009 2881 1497 \nQ 2881 1984 2565 2268 \nQ 2250 2553 1709 2553 \nQ 1456 2553 1204 2497 \nQ 953 2441 691 2322 \nL 691 4666 \nz\n\" transform=\"scale(0.015625)\"/>\n       </defs>\n       <use xlink:href=\"#DejaVuSans-30\"/>\n       <use xlink:href=\"#DejaVuSans-2e\" x=\"63.623047\"/>\n       <use xlink:href=\"#DejaVuSans-32\" x=\"95.410156\"/>\n       <use xlink:href=\"#DejaVuSans-35\" x=\"159.033203\"/>\n      </g>\n     </g>\n    </g>\n    <g id=\"ytick_3\">\n     <g id=\"line2d_17\">\n      <path d=\"M 36.465625 211.929553 \nL 594.465625 211.929553 \n\" clip-path=\"url(#p56e1080392)\" style=\"fill: none; stroke: #b0b0b0; stroke-width: 0.8; stroke-linecap: square\"/>\n     </g>\n     <g id=\"line2d_18\">\n      <g>\n       <use xlink:href=\"#mde4c9dcb35\" x=\"36.465625\" y=\"211.929553\" style=\"stroke: #000000; stroke-width: 0.8\"/>\n      </g>\n     </g>\n     <g id=\"text_10\">\n      <!-- 0.50 -->\n      <g transform=\"translate(7.2 215.728772) scale(0.1 -0.1)\">\n       <use xlink:href=\"#DejaVuSans-30\"/>\n       <use xlink:href=\"#DejaVuSans-2e\" x=\"63.623047\"/>\n       <use xlink:href=\"#DejaVuSans-35\" x=\"95.410156\"/>\n       <use xlink:href=\"#DejaVuSans-30\" x=\"159.033203\"/>\n      </g>\n     </g>\n    </g>\n    <g id=\"ytick_4\">\n     <g id=\"line2d_19\">\n      <path d=\"M 36.465625 179.208112 \nL 594.465625 179.208112 \n\" clip-path=\"url(#p56e1080392)\" style=\"fill: none; stroke: #b0b0b0; stroke-width: 0.8; stroke-linecap: square\"/>\n     </g>\n     <g id=\"line2d_20\">\n      <g>\n       <use xlink:href=\"#mde4c9dcb35\" x=\"36.465625\" y=\"179.208112\" style=\"stroke: #000000; stroke-width: 0.8\"/>\n      </g>\n     </g>\n     <g id=\"text_11\">\n      <!-- 0.75 -->\n      <g transform=\"translate(7.2 183.007331) scale(0.1 -0.1)\">\n       <defs>\n        <path id=\"DejaVuSans-37\" d=\"M 525 4666 \nL 3525 4666 \nL 3525 4397 \nL 1831 0 \nL 1172 0 \nL 2766 4134 \nL 525 4134 \nL 525 4666 \nz\n\" transform=\"scale(0.015625)\"/>\n       </defs>\n       <use xlink:href=\"#DejaVuSans-30\"/>\n       <use xlink:href=\"#DejaVuSans-2e\" x=\"63.623047\"/>\n       <use xlink:href=\"#DejaVuSans-37\" x=\"95.410156\"/>\n       <use xlink:href=\"#DejaVuSans-35\" x=\"159.033203\"/>\n      </g>\n     </g>\n    </g>\n    <g id=\"ytick_5\">\n     <g id=\"line2d_21\">\n      <path d=\"M 36.465625 146.48667 \nL 594.465625 146.48667 \n\" clip-path=\"url(#p56e1080392)\" style=\"fill: none; stroke: #b0b0b0; stroke-width: 0.8; stroke-linecap: square\"/>\n     </g>\n     <g id=\"line2d_22\">\n      <g>\n       <use xlink:href=\"#mde4c9dcb35\" x=\"36.465625\" y=\"146.48667\" style=\"stroke: #000000; stroke-width: 0.8\"/>\n      </g>\n     </g>\n     <g id=\"text_12\">\n      <!-- 1.00 -->\n      <g transform=\"translate(7.2 150.285889) scale(0.1 -0.1)\">\n       <use xlink:href=\"#DejaVuSans-31\"/>\n       <use xlink:href=\"#DejaVuSans-2e\" x=\"63.623047\"/>\n       <use xlink:href=\"#DejaVuSans-30\" x=\"95.410156\"/>\n       <use xlink:href=\"#DejaVuSans-30\" x=\"159.033203\"/>\n      </g>\n     </g>\n    </g>\n    <g id=\"ytick_6\">\n     <g id=\"line2d_23\">\n      <path d=\"M 36.465625 113.765228 \nL 594.465625 113.765228 \n\" clip-path=\"url(#p56e1080392)\" style=\"fill: none; stroke: #b0b0b0; stroke-width: 0.8; stroke-linecap: square\"/>\n     </g>\n     <g id=\"line2d_24\">\n      <g>\n       <use xlink:href=\"#mde4c9dcb35\" x=\"36.465625\" y=\"113.765228\" style=\"stroke: #000000; stroke-width: 0.8\"/>\n      </g>\n     </g>\n     <g id=\"text_13\">\n      <!-- 1.25 -->\n      <g transform=\"translate(7.2 117.564447) scale(0.1 -0.1)\">\n       <use xlink:href=\"#DejaVuSans-31\"/>\n       <use xlink:href=\"#DejaVuSans-2e\" x=\"63.623047\"/>\n       <use xlink:href=\"#DejaVuSans-32\" x=\"95.410156\"/>\n       <use xlink:href=\"#DejaVuSans-35\" x=\"159.033203\"/>\n      </g>\n     </g>\n    </g>\n    <g id=\"ytick_7\">\n     <g id=\"line2d_25\">\n      <path d=\"M 36.465625 81.043787 \nL 594.465625 81.043787 \n\" clip-path=\"url(#p56e1080392)\" style=\"fill: none; stroke: #b0b0b0; stroke-width: 0.8; stroke-linecap: square\"/>\n     </g>\n     <g id=\"line2d_26\">\n      <g>\n       <use xlink:href=\"#mde4c9dcb35\" x=\"36.465625\" y=\"81.043787\" style=\"stroke: #000000; stroke-width: 0.8\"/>\n      </g>\n     </g>\n     <g id=\"text_14\">\n      <!-- 1.50 -->\n      <g transform=\"translate(7.2 84.843005) scale(0.1 -0.1)\">\n       <use xlink:href=\"#DejaVuSans-31\"/>\n       <use xlink:href=\"#DejaVuSans-2e\" x=\"63.623047\"/>\n       <use xlink:href=\"#DejaVuSans-35\" x=\"95.410156\"/>\n       <use xlink:href=\"#DejaVuSans-30\" x=\"159.033203\"/>\n      </g>\n     </g>\n    </g>\n    <g id=\"ytick_8\">\n     <g id=\"line2d_27\">\n      <path d=\"M 36.465625 48.322345 \nL 594.465625 48.322345 \n\" clip-path=\"url(#p56e1080392)\" style=\"fill: none; stroke: #b0b0b0; stroke-width: 0.8; stroke-linecap: square\"/>\n     </g>\n     <g id=\"line2d_28\">\n      <g>\n       <use xlink:href=\"#mde4c9dcb35\" x=\"36.465625\" y=\"48.322345\" style=\"stroke: #000000; stroke-width: 0.8\"/>\n      </g>\n     </g>\n     <g id=\"text_15\">\n      <!-- 1.75 -->\n      <g transform=\"translate(7.2 52.121564) scale(0.1 -0.1)\">\n       <use xlink:href=\"#DejaVuSans-31\"/>\n       <use xlink:href=\"#DejaVuSans-2e\" x=\"63.623047\"/>\n       <use xlink:href=\"#DejaVuSans-37\" x=\"95.410156\"/>\n       <use xlink:href=\"#DejaVuSans-35\" x=\"159.033203\"/>\n      </g>\n     </g>\n    </g>\n    <g id=\"ytick_9\">\n     <g id=\"line2d_29\">\n      <path d=\"M 36.465625 15.600903 \nL 594.465625 15.600903 \n\" clip-path=\"url(#p56e1080392)\" style=\"fill: none; stroke: #b0b0b0; stroke-width: 0.8; stroke-linecap: square\"/>\n     </g>\n     <g id=\"line2d_30\">\n      <g>\n       <use xlink:href=\"#mde4c9dcb35\" x=\"36.465625\" y=\"15.600903\" style=\"stroke: #000000; stroke-width: 0.8\"/>\n      </g>\n     </g>\n     <g id=\"text_16\">\n      <!-- 2.00 -->\n      <g transform=\"translate(7.2 19.400122) scale(0.1 -0.1)\">\n       <use xlink:href=\"#DejaVuSans-32\"/>\n       <use xlink:href=\"#DejaVuSans-2e\" x=\"63.623047\"/>\n       <use xlink:href=\"#DejaVuSans-30\" x=\"95.410156\"/>\n       <use xlink:href=\"#DejaVuSans-30\" x=\"159.033203\"/>\n      </g>\n     </g>\n    </g>\n   </g>\n   <g id=\"line2d_31\">\n    <path d=\"M 61.829261 19.8 \nL 66.953228 56.940365 \nL 72.077195 63.792397 \nL 77.201162 68.773295 \nL 82.325129 75.588828 \nL 87.449096 82.927408 \nL 92.573063 90.130215 \nL 97.69703 95.611254 \nL 102.820997 101.216386 \nL 107.944964 104.853707 \nL 113.068931 108.214767 \nL 118.192898 110.951222 \nL 123.316865 112.436371 \nL 128.440832 113.69532 \nL 133.564799 115.957799 \nL 138.688765 116.729259 \nL 143.812732 118.931183 \nL 148.936699 119.512961 \nL 154.060666 121.427277 \nL 159.184633 122.84713 \nL 164.3086 123.746234 \nL 169.432567 125.426765 \nL 174.556534 128.144836 \nL 179.680501 133.475432 \nL 184.804468 140.712961 \nL 189.928435 149.465811 \nL 195.052402 160.012902 \nL 200.176369 169.780743 \nL 205.300336 177.758596 \nL 210.424303 183.791092 \nL 215.54827 190.194438 \nL 220.672237 193.447251 \nL 225.796204 200.353613 \nL 230.92017 203.762486 \nL 236.044137 206.764596 \nL 241.168104 211.853605 \nL 246.292071 214.30444 \nL 251.416038 218.04592 \nL 256.540005 223.573087 \nL 261.663972 225.647621 \nL 266.787939 227.778373 \nL 271.911906 231.746815 \nL 277.035873 233.847428 \nL 282.15984 234.819049 \nL 287.283807 237.096045 \nL 292.407774 237.898712 \nL 297.531741 241.038247 \nL 302.655708 243.829215 \nL 307.779675 243.323283 \nL 312.903642 246.241332 \nL 318.027608 244.47892 \nL 323.151575 244.967012 \nL 328.275542 247.593737 \nL 333.399509 250.236805 \nL 338.523476 250.393795 \nL 343.647443 249.265005 \nL 348.77141 251.884622 \nL 353.895377 251.769547 \nL 359.019344 254.601818 \nL 364.143311 253.49389 \nL 369.267278 255.204132 \nL 374.391245 256.265374 \nL 379.515212 256.639846 \nL 384.639179 257.093309 \nL 389.763146 255.882214 \nL 394.887113 257.546253 \nL 400.01108 259.327759 \nL 405.135046 258.942815 \nL 410.259013 259.620175 \nL 415.38298 259.361361 \nL 420.506947 261.150639 \nL 425.630914 261.37461 \nL 430.754881 257.326958 \nL 435.878848 260.998421 \nL 441.002815 263.59942 \nL 446.126782 262.856161 \nL 451.250749 259.273719 \nL 456.374716 262.960297 \nL 461.498683 263.351542 \nL 466.62265 263.803713 \nL 471.746617 263.592048 \nL 476.870584 264.461403 \nL 481.994551 265.204399 \nL 487.118518 264.860193 \nL 492.242485 262.085713 \nL 497.366451 261.307213 \nL 502.490418 264.168413 \nL 507.614385 261.969791 \nL 512.738352 263.23617 \nL 517.862319 265.803763 \nL 522.986286 263.939723 \nL 528.110253 262.854689 \nL 533.23422 265.964004 \nL 538.358187 265.099699 \nL 543.482154 266.101969 \nL 548.606121 266.594104 \nL 553.730088 264.914575 \nL 558.854055 267.930857 \nL 563.978022 262.911869 \nL 569.101989 266.441993 \n\" clip-path=\"url(#p56e1080392)\" style=\"fill: none; stroke: #1f77b4; stroke-width: 1.5; stroke-linecap: square\"/>\n   </g>\n   <g id=\"line2d_32\">\n    <path d=\"M 61.829261 228.964146 \nL 66.953228 223.855558 \nL 72.077195 223.641903 \nL 77.201162 222.748909 \nL 82.325129 221.633349 \nL 87.449096 219.38358 \nL 92.573063 217.268008 \nL 97.69703 214.807632 \nL 102.820997 213.147561 \nL 107.944964 211.741407 \nL 113.068931 210.400878 \nL 118.192898 209.500253 \nL 123.316865 208.974962 \nL 128.440832 208.357299 \nL 133.564799 207.768644 \nL 138.688765 206.883323 \nL 143.812732 206.402601 \nL 148.936699 206.022237 \nL 154.060666 205.405375 \nL 159.184633 204.784813 \nL 164.3086 204.23603 \nL 169.432567 203.304903 \nL 174.556534 202.151916 \nL 179.680501 200.352834 \nL 184.804468 197.717329 \nL 189.928435 194.427935 \nL 195.052402 190.920457 \nL 200.176369 187.696841 \nL 205.300336 184.216437 \nL 210.424303 181.977672 \nL 215.54827 179.724307 \nL 220.672237 178.199581 \nL 225.796204 175.638925 \nL 230.92017 174.059773 \nL 236.044137 173.011642 \nL 241.168104 170.755543 \nL 246.292071 169.617388 \nL 251.416038 167.985116 \nL 256.540005 166.288166 \nL 261.663972 165.174859 \nL 266.787939 164.328953 \nL 271.911906 163.14989 \nL 277.035873 161.687125 \nL 282.15984 161.309712 \nL 287.283807 160.694726 \nL 292.407774 160.096771 \nL 297.531741 159.163676 \nL 302.655708 158.239246 \nL 307.779675 158.141616 \nL 312.903642 157.135199 \nL 318.027608 157.377665 \nL 323.151575 157.252225 \nL 328.275542 156.329612 \nL 333.399509 155.383989 \nL 338.523476 155.302773 \nL 343.647443 155.60996 \nL 348.77141 154.734594 \nL 353.895377 154.646143 \nL 359.019344 153.958191 \nL 364.143311 154.047386 \nL 369.267278 153.604248 \nL 374.391245 153.025173 \nL 379.515212 153.180209 \nL 384.639179 152.703431 \nL 389.763146 153.397152 \nL 394.887113 152.677111 \nL 400.01108 152.268548 \nL 405.135046 152.180931 \nL 410.259013 151.968186 \nL 415.38298 152.082078 \nL 420.506947 151.597415 \nL 425.630914 151.39066 \nL 430.754881 152.673907 \nL 435.878848 151.488523 \nL 441.002815 150.886995 \nL 446.126782 151.089751 \nL 451.250749 152.043476 \nL 456.374716 151.185682 \nL 461.498683 150.808074 \nL 466.62265 150.569267 \nL 471.746617 150.769667 \nL 476.870584 150.392819 \nL 481.994551 150.362381 \nL 487.118518 150.220322 \nL 492.242485 151.033515 \nL 497.366451 151.471133 \nL 502.490418 150.563452 \nL 507.614385 150.957538 \nL 512.738352 150.667277 \nL 517.862319 150.011465 \nL 522.986286 150.520908 \nL 528.110253 150.924367 \nL 533.23422 149.980286 \nL 538.358187 150.291865 \nL 543.482154 150.069647 \nL 548.606121 149.76192 \nL 553.730088 150.152957 \nL 558.854055 149.51993 \nL 563.978022 150.83325 \nL 569.101989 149.897975 \n\" clip-path=\"url(#p56e1080392)\" style=\"fill: none; stroke-dasharray: 5.55,2.4; stroke-dashoffset: 0; stroke: #bf00bf; stroke-width: 1.5\"/>\n   </g>\n   <g id=\"line2d_33\">\n    <path d=\"M 61.829261 48.417673 \nL 66.953228 61.672994 \nL 72.077195 65.755261 \nL 77.201162 73.945505 \nL 82.325129 81.99981 \nL 87.449096 90.173526 \nL 92.573063 95.08658 \nL 97.69703 102.436074 \nL 102.820997 106.625792 \nL 107.944964 108.363279 \nL 113.068931 111.947609 \nL 118.192898 114.904533 \nL 123.316865 114.293533 \nL 128.440832 115.726459 \nL 133.564799 119.058684 \nL 138.688765 119.892508 \nL 143.812732 120.142484 \nL 148.936699 122.213762 \nL 154.060666 123.279045 \nL 159.184633 124.768316 \nL 164.3086 126.527466 \nL 169.432567 127.949231 \nL 174.556534 133.530612 \nL 179.680501 140.539559 \nL 184.804468 150.411507 \nL 189.928435 162.347287 \nL 195.052402 177.120872 \nL 200.176369 185.89322 \nL 205.300336 191.328292 \nL 210.424303 198.093856 \nL 215.54827 205.021907 \nL 220.672237 207.904416 \nL 225.796204 214.468392 \nL 230.92017 218.244793 \nL 236.044137 219.820184 \nL 241.168104 227.459726 \nL 246.292071 229.743692 \nL 251.416038 233.845749 \nL 256.540005 237.253392 \nL 261.663972 235.681159 \nL 266.787939 241.802502 \nL 271.911906 244.071297 \nL 277.035873 246.230657 \nL 282.15984 248.830821 \nL 287.283807 249.341778 \nL 292.407774 251.516922 \nL 297.531741 252.306107 \nL 302.655708 254.345076 \nL 307.779675 255.353615 \nL 312.903642 257.179984 \nL 318.027608 257.021367 \nL 323.151575 256.479414 \nL 328.275542 258.74975 \nL 333.399509 260.307233 \nL 338.523476 260.569233 \nL 343.647443 260.472917 \nL 348.77141 262.472486 \nL 353.895377 262.827148 \nL 359.019344 262.830186 \nL 364.143311 262.058347 \nL 369.267278 264.170169 \nL 374.391245 263.627643 \nL 379.515212 265.267233 \nL 384.639179 263.395201 \nL 389.763146 264.383412 \nL 394.887113 266.223554 \nL 400.01108 266.276773 \nL 405.135046 266.032591 \nL 410.259013 265.387075 \nL 415.38298 267.012793 \nL 420.506947 267.71201 \nL 425.630914 268.118241 \nL 430.754881 267.071786 \nL 435.878848 267.98131 \nL 441.002815 268.678098 \nL 446.126782 268.736869 \nL 451.250749 267.106539 \nL 456.374716 268.822397 \nL 461.498683 268.847134 \nL 466.62265 268.118917 \nL 471.746617 268.501779 \nL 476.870584 269.464447 \nL 481.994551 269.41152 \nL 487.118518 269.871182 \nL 492.242485 264.650009 \nL 497.366451 269.110338 \nL 502.490418 269.725976 \nL 507.614385 255.786407 \nL 512.738352 270.230137 \nL 517.862319 270.366959 \nL 522.986286 270.340812 \nL 528.110253 270.665963 \nL 533.23422 270.218038 \nL 538.358187 270.48995 \nL 543.482154 270.359574 \nL 548.606121 270.167205 \nL 553.730088 270.801996 \nL 558.854055 271.8 \nL 563.978022 268.96644 \nL 569.101989 271.293658 \n\" clip-path=\"url(#p56e1080392)\" style=\"fill: none; stroke-dasharray: 9.6,2.4,1.5,2.4; stroke-dashoffset: 0; stroke: #008000; stroke-width: 1.5\"/>\n   </g>\n   <g id=\"line2d_34\">\n    <path d=\"M 61.829261 224.450844 \nL 66.953228 223.976445 \nL 72.077195 224.104651 \nL 77.201162 222.844603 \nL 82.325129 220.612077 \nL 87.449096 217.660897 \nL 92.573063 216.30891 \nL 97.69703 213.151133 \nL 102.820997 212.278093 \nL 107.944964 211.622535 \nL 113.068931 209.827597 \nL 118.192898 208.269204 \nL 123.316865 209.359017 \nL 128.440832 208.718597 \nL 133.564799 206.284068 \nL 138.688765 206.788329 \nL 143.812732 206.226511 \nL 148.936699 205.287746 \nL 154.060666 205.200176 \nL 159.184633 204.542248 \nL 164.3086 203.737741 \nL 169.432567 202.696648 \nL 174.556534 200.768446 \nL 179.680501 198.306896 \nL 184.804468 194.816267 \nL 189.928435 190.514829 \nL 195.052402 184.981957 \nL 200.176369 181.48819 \nL 205.300336 179.781936 \nL 210.424303 176.636597 \nL 215.54827 174.031531 \nL 220.672237 172.720723 \nL 225.796204 170.219555 \nL 230.92017 168.914829 \nL 236.044137 167.860958 \nL 241.168104 164.70265 \nL 246.292071 163.589643 \nL 251.416038 161.914535 \nL 256.540005 160.843923 \nL 261.663972 161.406306 \nL 266.787939 159.176171 \nL 271.911906 158.090293 \nL 277.035873 157.087696 \nL 282.15984 156.32651 \nL 287.283807 156.255192 \nL 292.407774 155.016744 \nL 297.531741 154.475897 \nL 302.655708 154.06092 \nL 307.779675 153.413518 \nL 312.903642 152.808078 \nL 318.027608 152.696305 \nL 323.151575 152.951382 \nL 328.275542 152.308339 \nL 333.399509 151.539183 \nL 338.523476 151.614451 \nL 343.647443 151.623206 \nL 348.77141 150.901494 \nL 353.895377 150.627292 \nL 359.019344 150.748349 \nL 364.143311 150.713611 \nL 369.267278 150.161633 \nL 374.391245 150.260585 \nL 379.515212 150.035454 \nL 384.639179 150.21065 \nL 389.763146 150.163693 \nL 394.887113 149.764669 \nL 400.01108 149.601249 \nL 405.135046 149.485818 \nL 410.259013 149.879213 \nL 415.38298 149.360359 \nL 420.506947 149.383851 \nL 425.630914 149.01838 \nL 430.754881 149.210799 \nL 435.878848 149.035162 \nL 441.002815 148.845295 \nL 446.126782 148.762903 \nL 451.250749 149.439746 \nL 456.374716 148.782073 \nL 461.498683 148.798254 \nL 466.62265 149.165403 \nL 471.746617 148.774341 \nL 476.870584 148.564341 \nL 481.994551 148.522358 \nL 487.118518 148.474973 \nL 492.242485 149.921999 \nL 497.366451 148.795094 \nL 502.490418 148.573413 \nL 507.614385 150.561412 \nL 512.738352 148.487198 \nL 517.862319 148.445668 \nL 522.986286 148.354859 \nL 528.110253 148.291168 \nL 533.23422 148.319243 \nL 538.358187 148.447273 \nL 543.482154 148.256197 \nL 548.606121 148.237829 \nL 553.730088 148.187617 \nL 558.854055 147.931298 \nL 563.978022 148.521969 \nL 569.101989 148.059153 \n\" clip-path=\"url(#p56e1080392)\" style=\"fill: none; stroke-dasharray: 1.5,2.475; stroke-dashoffset: 0; stroke: #ff0000; stroke-width: 1.5\"/>\n   </g>\n   <g id=\"patch_3\">\n    <path d=\"M 36.465625 284.4 \nL 36.465625 7.2 \n\" style=\"fill: none; stroke: #000000; stroke-width: 0.8; stroke-linejoin: miter; stroke-linecap: square\"/>\n   </g>\n   <g id=\"patch_4\">\n    <path d=\"M 594.465625 284.4 \nL 594.465625 7.2 \n\" style=\"fill: none; stroke: #000000; stroke-width: 0.8; stroke-linejoin: miter; stroke-linecap: square\"/>\n   </g>\n   <g id=\"patch_5\">\n    <path d=\"M 36.465625 284.4 \nL 594.465625 284.4 \n\" style=\"fill: none; stroke: #000000; stroke-width: 0.8; stroke-linejoin: miter; stroke-linecap: square\"/>\n   </g>\n   <g id=\"patch_6\">\n    <path d=\"M 36.465625 7.2 \nL 594.465625 7.2 \n\" style=\"fill: none; stroke: #000000; stroke-width: 0.8; stroke-linejoin: miter; stroke-linecap: square\"/>\n   </g>\n   <g id=\"legend_1\">\n    <g id=\"patch_7\">\n     <path d=\"M 483.7375 73.9125 \nL 587.465625 73.9125 \nQ 589.465625 73.9125 589.465625 71.9125 \nL 589.465625 14.2 \nQ 589.465625 12.2 587.465625 12.2 \nL 483.7375 12.2 \nQ 481.7375 12.2 481.7375 14.2 \nL 481.7375 71.9125 \nQ 481.7375 73.9125 483.7375 73.9125 \nz\n\" style=\"fill: #ffffff; opacity: 0.8; stroke: #cccccc; stroke-linejoin: miter\"/>\n    </g>\n    <g id=\"line2d_35\">\n     <path d=\"M 485.7375 20.298437 \nL 495.7375 20.298437 \nL 505.7375 20.298437 \n\" style=\"fill: none; stroke: #1f77b4; stroke-width: 1.5; stroke-linecap: square\"/>\n    </g>\n    <g id=\"text_17\">\n     <!-- train loss -->\n     <g transform=\"translate(513.7375 23.798437) scale(0.1 -0.1)\">\n      <defs>\n       <path id=\"DejaVuSans-74\" d=\"M 1172 4494 \nL 1172 3500 \nL 2356 3500 \nL 2356 3053 \nL 1172 3053 \nL 1172 1153 \nQ 1172 725 1289 603 \nQ 1406 481 1766 481 \nL 2356 481 \nL 2356 0 \nL 1766 0 \nQ 1100 0 847 248 \nQ 594 497 594 1153 \nL 594 3053 \nL 172 3053 \nL 172 3500 \nL 594 3500 \nL 594 4494 \nL 1172 4494 \nz\n\" transform=\"scale(0.015625)\"/>\n       <path id=\"DejaVuSans-72\" d=\"M 2631 2963 \nQ 2534 3019 2420 3045 \nQ 2306 3072 2169 3072 \nQ 1681 3072 1420 2755 \nQ 1159 2438 1159 1844 \nL 1159 0 \nL 581 0 \nL 581 3500 \nL 1159 3500 \nL 1159 2956 \nQ 1341 3275 1631 3429 \nQ 1922 3584 2338 3584 \nQ 2397 3584 2469 3576 \nQ 2541 3569 2628 3553 \nL 2631 2963 \nz\n\" transform=\"scale(0.015625)\"/>\n       <path id=\"DejaVuSans-61\" d=\"M 2194 1759 \nQ 1497 1759 1228 1600 \nQ 959 1441 959 1056 \nQ 959 750 1161 570 \nQ 1363 391 1709 391 \nQ 2188 391 2477 730 \nQ 2766 1069 2766 1631 \nL 2766 1759 \nL 2194 1759 \nz\nM 3341 1997 \nL 3341 0 \nL 2766 0 \nL 2766 531 \nQ 2569 213 2275 61 \nQ 1981 -91 1556 -91 \nQ 1019 -91 701 211 \nQ 384 513 384 1019 \nQ 384 1609 779 1909 \nQ 1175 2209 1959 2209 \nL 2766 2209 \nL 2766 2266 \nQ 2766 2663 2505 2880 \nQ 2244 3097 1772 3097 \nQ 1472 3097 1187 3025 \nQ 903 2953 641 2809 \nL 641 3341 \nQ 956 3463 1253 3523 \nQ 1550 3584 1831 3584 \nQ 2591 3584 2966 3190 \nQ 3341 2797 3341 1997 \nz\n\" transform=\"scale(0.015625)\"/>\n       <path id=\"DejaVuSans-69\" d=\"M 603 3500 \nL 1178 3500 \nL 1178 0 \nL 603 0 \nL 603 3500 \nz\nM 603 4863 \nL 1178 4863 \nL 1178 4134 \nL 603 4134 \nL 603 4863 \nz\n\" transform=\"scale(0.015625)\"/>\n       <path id=\"DejaVuSans-6e\" d=\"M 3513 2113 \nL 3513 0 \nL 2938 0 \nL 2938 2094 \nQ 2938 2591 2744 2837 \nQ 2550 3084 2163 3084 \nQ 1697 3084 1428 2787 \nQ 1159 2491 1159 1978 \nL 1159 0 \nL 581 0 \nL 581 3500 \nL 1159 3500 \nL 1159 2956 \nQ 1366 3272 1645 3428 \nQ 1925 3584 2291 3584 \nQ 2894 3584 3203 3211 \nQ 3513 2838 3513 2113 \nz\n\" transform=\"scale(0.015625)\"/>\n       <path id=\"DejaVuSans-20\" transform=\"scale(0.015625)\"/>\n       <path id=\"DejaVuSans-6c\" d=\"M 603 4863 \nL 1178 4863 \nL 1178 0 \nL 603 0 \nL 603 4863 \nz\n\" transform=\"scale(0.015625)\"/>\n       <path id=\"DejaVuSans-73\" d=\"M 2834 3397 \nL 2834 2853 \nQ 2591 2978 2328 3040 \nQ 2066 3103 1784 3103 \nQ 1356 3103 1142 2972 \nQ 928 2841 928 2578 \nQ 928 2378 1081 2264 \nQ 1234 2150 1697 2047 \nL 1894 2003 \nQ 2506 1872 2764 1633 \nQ 3022 1394 3022 966 \nQ 3022 478 2636 193 \nQ 2250 -91 1575 -91 \nQ 1294 -91 989 -36 \nQ 684 19 347 128 \nL 347 722 \nQ 666 556 975 473 \nQ 1284 391 1588 391 \nQ 1994 391 2212 530 \nQ 2431 669 2431 922 \nQ 2431 1156 2273 1281 \nQ 2116 1406 1581 1522 \nL 1381 1569 \nQ 847 1681 609 1914 \nQ 372 2147 372 2553 \nQ 372 3047 722 3315 \nQ 1072 3584 1716 3584 \nQ 2034 3584 2315 3537 \nQ 2597 3491 2834 3397 \nz\n\" transform=\"scale(0.015625)\"/>\n      </defs>\n      <use xlink:href=\"#DejaVuSans-74\"/>\n      <use xlink:href=\"#DejaVuSans-72\" x=\"39.208984\"/>\n      <use xlink:href=\"#DejaVuSans-61\" x=\"80.322266\"/>\n      <use xlink:href=\"#DejaVuSans-69\" x=\"141.601562\"/>\n      <use xlink:href=\"#DejaVuSans-6e\" x=\"169.384766\"/>\n      <use xlink:href=\"#DejaVuSans-20\" x=\"232.763672\"/>\n      <use xlink:href=\"#DejaVuSans-6c\" x=\"264.550781\"/>\n      <use xlink:href=\"#DejaVuSans-6f\" x=\"292.333984\"/>\n      <use xlink:href=\"#DejaVuSans-73\" x=\"353.515625\"/>\n      <use xlink:href=\"#DejaVuSans-73\" x=\"405.615234\"/>\n     </g>\n    </g>\n    <g id=\"line2d_36\">\n     <path d=\"M 485.7375 34.976562 \nL 495.7375 34.976562 \nL 505.7375 34.976562 \n\" style=\"fill: none; stroke-dasharray: 5.55,2.4; stroke-dashoffset: 0; stroke: #bf00bf; stroke-width: 1.5\"/>\n    </g>\n    <g id=\"text_18\">\n     <!-- train acc -->\n     <g transform=\"translate(513.7375 38.476562) scale(0.1 -0.1)\">\n      <use xlink:href=\"#DejaVuSans-74\"/>\n      <use xlink:href=\"#DejaVuSans-72\" x=\"39.208984\"/>\n      <use xlink:href=\"#DejaVuSans-61\" x=\"80.322266\"/>\n      <use xlink:href=\"#DejaVuSans-69\" x=\"141.601562\"/>\n      <use xlink:href=\"#DejaVuSans-6e\" x=\"169.384766\"/>\n      <use xlink:href=\"#DejaVuSans-20\" x=\"232.763672\"/>\n      <use xlink:href=\"#DejaVuSans-61\" x=\"264.550781\"/>\n      <use xlink:href=\"#DejaVuSans-63\" x=\"325.830078\"/>\n      <use xlink:href=\"#DejaVuSans-63\" x=\"380.810547\"/>\n     </g>\n    </g>\n    <g id=\"line2d_37\">\n     <path d=\"M 485.7375 49.654687 \nL 495.7375 49.654687 \nL 505.7375 49.654687 \n\" style=\"fill: none; stroke-dasharray: 9.6,2.4,1.5,2.4; stroke-dashoffset: 0; stroke: #008000; stroke-width: 1.5\"/>\n    </g>\n    <g id=\"text_19\">\n     <!-- validation loss -->\n     <g transform=\"translate(513.7375 53.154687) scale(0.1 -0.1)\">\n      <defs>\n       <path id=\"DejaVuSans-76\" d=\"M 191 3500 \nL 800 3500 \nL 1894 563 \nL 2988 3500 \nL 3597 3500 \nL 2284 0 \nL 1503 0 \nL 191 3500 \nz\n\" transform=\"scale(0.015625)\"/>\n       <path id=\"DejaVuSans-64\" d=\"M 2906 2969 \nL 2906 4863 \nL 3481 4863 \nL 3481 0 \nL 2906 0 \nL 2906 525 \nQ 2725 213 2448 61 \nQ 2172 -91 1784 -91 \nQ 1150 -91 751 415 \nQ 353 922 353 1747 \nQ 353 2572 751 3078 \nQ 1150 3584 1784 3584 \nQ 2172 3584 2448 3432 \nQ 2725 3281 2906 2969 \nz\nM 947 1747 \nQ 947 1113 1208 752 \nQ 1469 391 1925 391 \nQ 2381 391 2643 752 \nQ 2906 1113 2906 1747 \nQ 2906 2381 2643 2742 \nQ 2381 3103 1925 3103 \nQ 1469 3103 1208 2742 \nQ 947 2381 947 1747 \nz\n\" transform=\"scale(0.015625)\"/>\n      </defs>\n      <use xlink:href=\"#DejaVuSans-76\"/>\n      <use xlink:href=\"#DejaVuSans-61\" x=\"59.179688\"/>\n      <use xlink:href=\"#DejaVuSans-6c\" x=\"120.458984\"/>\n      <use xlink:href=\"#DejaVuSans-69\" x=\"148.242188\"/>\n      <use xlink:href=\"#DejaVuSans-64\" x=\"176.025391\"/>\n      <use xlink:href=\"#DejaVuSans-61\" x=\"239.501953\"/>\n      <use xlink:href=\"#DejaVuSans-74\" x=\"300.78125\"/>\n      <use xlink:href=\"#DejaVuSans-69\" x=\"339.990234\"/>\n      <use xlink:href=\"#DejaVuSans-6f\" x=\"367.773438\"/>\n      <use xlink:href=\"#DejaVuSans-6e\" x=\"428.955078\"/>\n      <use xlink:href=\"#DejaVuSans-20\" x=\"492.333984\"/>\n      <use xlink:href=\"#DejaVuSans-6c\" x=\"524.121094\"/>\n      <use xlink:href=\"#DejaVuSans-6f\" x=\"551.904297\"/>\n      <use xlink:href=\"#DejaVuSans-73\" x=\"613.085938\"/>\n      <use xlink:href=\"#DejaVuSans-73\" x=\"665.185547\"/>\n     </g>\n    </g>\n    <g id=\"line2d_38\">\n     <path d=\"M 485.7375 64.332812 \nL 495.7375 64.332812 \nL 505.7375 64.332812 \n\" style=\"fill: none; stroke-dasharray: 1.5,2.475; stroke-dashoffset: 0; stroke: #ff0000; stroke-width: 1.5\"/>\n    </g>\n    <g id=\"text_20\">\n     <!-- validation acc -->\n     <g transform=\"translate(513.7375 67.832812) scale(0.1 -0.1)\">\n      <use xlink:href=\"#DejaVuSans-76\"/>\n      <use xlink:href=\"#DejaVuSans-61\" x=\"59.179688\"/>\n      <use xlink:href=\"#DejaVuSans-6c\" x=\"120.458984\"/>\n      <use xlink:href=\"#DejaVuSans-69\" x=\"148.242188\"/>\n      <use xlink:href=\"#DejaVuSans-64\" x=\"176.025391\"/>\n      <use xlink:href=\"#DejaVuSans-61\" x=\"239.501953\"/>\n      <use xlink:href=\"#DejaVuSans-74\" x=\"300.78125\"/>\n      <use xlink:href=\"#DejaVuSans-69\" x=\"339.990234\"/>\n      <use xlink:href=\"#DejaVuSans-6f\" x=\"367.773438\"/>\n      <use xlink:href=\"#DejaVuSans-6e\" x=\"428.955078\"/>\n      <use xlink:href=\"#DejaVuSans-20\" x=\"492.333984\"/>\n      <use xlink:href=\"#DejaVuSans-61\" x=\"524.121094\"/>\n      <use xlink:href=\"#DejaVuSans-63\" x=\"585.400391\"/>\n      <use xlink:href=\"#DejaVuSans-63\" x=\"640.380859\"/>\n     </g>\n    </g>\n   </g>\n  </g>\n </g>\n <defs>\n  <clipPath id=\"p56e1080392\">\n   <rect x=\"36.465625\" y=\"7.2\" width=\"558\" height=\"277.2\"/>\n  </clipPath>\n </defs>\n</svg>\n"
     },
     "metadata": {},
     "output_type": "display_data"
    }
   ],
   "source": [
    "# TODO: your answer here\n",
    "net_pos = TransformerNetwork(positional_encoding=True)\n",
    "train(net_pos, data_loaders, device=device)"
   ]
  },
  {
   "cell_type": "markdown",
   "metadata": {},
   "source": [
    "**(c) How does the performance of a model with positional encoding compare to a model without?<span style=\"float:right\"> (1 point)</span>**"
   ]
  },
  {
   "cell_type": "markdown",
   "metadata": {},
   "source": [
    "TODO: Your answer here."
   ]
  },
  {
   "cell_type": "markdown",
   "metadata": {},
   "source": [
    "**(d) Run the trained network with input `\"123+123\"` and `\"321+321\"`.<span style=\"float:right\"> (no points)</span>**"
   ]
  },
  {
   "cell_type": "code",
   "execution_count": 40,
   "metadata": {
    "ExecuteTime": {
     "end_time": "2023-10-07T07:43:24.428468393Z",
     "start_time": "2023-10-07T07:43:24.140086974Z"
    }
   },
   "outputs": [
    {
     "name": "stdout",
     "output_type": "stream",
     "text": [
      "For 123+123=246\n",
      "  y_pred[0] tensor([[ -4.0140,   2.2065,  -3.2381,  14.1118,  19.3340,  14.4327,   1.1795,\n",
      "         -16.8314, -16.0388,  -8.8782,  -0.6568,  -1.0207,  -3.7785,  -1.9848,\n",
      "          -5.0109,  -4.8159],\n",
      "        [ -3.4785,  -3.0586,   3.4324,   3.3276,   4.7196,  13.3376,  18.6899,\n",
      "           8.7032,  -7.3892, -17.5703, -15.6898,  -6.8581,  -3.2049,  -2.6347,\n",
      "          -3.6915,  -3.0692],\n",
      "        [ -4.3830,  -5.0526,  -5.7551,  -4.5306,  -4.8076,  -2.2592,   4.0192,\n",
      "          11.6589,  20.7995,  10.7593,  -8.2086, -15.8366,  -3.5330,   2.6456,\n",
      "          -3.8045,  -3.7352],\n",
      "        [  1.3782,   5.1540,  -1.4931,   0.7174,  -4.1363,  -5.7556,  -2.0228,\n",
      "           0.1409,   4.7298,   0.9892,  -6.2622,  -7.5705,   1.3920,  18.4640,\n",
      "           1.3950,   1.2347]], device='cuda:0')\n",
      "  encoded tensor([[ 4,  6,  8, 13]], device='cuda:0')\n",
      "  tokens [['2' '4' '6' '<eos>']]\n",
      "\n",
      "For 321+321=642\n",
      "  y_pred[0] tensor([[ -4.1122,  -2.8694,  -3.7400,   1.1427,  -4.1705,  -3.8845,   0.5748,\n",
      "           9.6214,  18.6037,   9.0307,  -9.1539, -14.8343,  -2.5448,   1.3913,\n",
      "          -3.3994,  -3.5448],\n",
      "        [ -1.1075,  -3.5728,   3.7809,   2.6610,   2.6629,  13.3621,  20.2116,\n",
      "           8.4984,  -8.5942, -18.3586, -16.7907,  -6.8028,  -0.9248,  -3.6250,\n",
      "          -1.5484,  -0.7461],\n",
      "        [ -1.9444,   0.2867,   0.0764,  14.6241,  20.5434,  15.3546,   0.0447,\n",
      "         -20.4223, -19.7934, -11.5136,  -2.2309,  -0.0683,  -1.6236,   1.7514,\n",
      "          -2.7062,  -2.1936],\n",
      "        [  0.4931,   3.4842,  -4.3719,   3.7715,   6.2229,   6.4470,  -0.8332,\n",
      "         -15.6512, -11.3450,  -3.2103,   2.2766,  -0.1198,   1.0707,  17.5843,\n",
      "          -0.3418,  -0.2363]], device='cuda:0')\n",
      "  encoded tensor([[ 8,  6,  4, 13]], device='cuda:0')\n",
      "  tokens [['6' '4' '2' '<eos>']]\n"
     ]
    }
   ],
   "source": [
    "for src, tgt in [('123+123', '246'), ('321+321', '642')]:\n",
    "    print(f'For {src}={tgt}')\n",
    "    y_pred = predict(net_pos, src, tgt)\n",
    "    print('  y_pred[0]', y_pred[0])\n",
    "    print('  encoded', torch.argmax(y_pred, dim=-1))\n",
    "    print('  tokens', decode_tokens(torch.argmax(y_pred, dim=-1)))\n",
    "    print()"
   ]
  },
  {
   "cell_type": "markdown",
   "metadata": {},
   "source": [
    "**(e) Compare the predictions for the first element of y with what you found earlier. Can you explain what happens?<span style=\"float:right\"> (1 point)</span>**"
   ]
  },
  {
   "cell_type": "markdown",
   "metadata": {},
   "source": [
    "Other than in the first try, which did not have a positional encoding yet, the transformer is now aware of the order of inputs and can thus predict the correct first digit, even if `y_prev` is the same for the first output. This is simply the case because `123` and `321` does not encode to the same anymore."
   ]
  },
  {
   "cell_type": "markdown",
   "metadata": {},
   "source": [
    "**(f) Explain in your own words why positional encoding is used in transformer networks.<span style=\"float:right\"> (1 point)</span>**"
   ]
  },
  {
   "cell_type": "markdown",
   "metadata": {},
   "source": [
    "TODO: Your answer here.\n",
    "Positional encoding is used in transformer networks as the self-attention mechanism is agnostic to the position of values, as all values get added together. Adding positional encoding makes it possible to add a sense of order of the inputs to the transformer network. "
   ]
  },
  {
   "cell_type": "markdown",
   "metadata": {},
   "source": [
    "**(g) Look at the learning curve. Can you suggest a way to improve the model?<span style=\"float:right\"> (1 point)</span>**"
   ]
  },
  {
   "cell_type": "markdown",
   "metadata": {},
   "source": [
    "TODO: Your answer here."
   ]
  },
  {
   "cell_type": "markdown",
   "metadata": {},
   "source": [
    "**(h) Optional: if time permits, try to train an even better model**"
   ]
  },
  {
   "cell_type": "markdown",
   "metadata": {},
   "source": [
    "## 5.6 Predicting for new samples (5 points)"
   ]
  },
  {
   "cell_type": "markdown",
   "metadata": {},
   "source": [
    "Predicting an output given a new sample requires an appropriate search algorithm (see [d2l chapter 10.8](https://d2l.ai/chapter_recurrent-modern/beam-search.html)). Here, we will implement the simplest form: a greedy search algorithm that selects the token with the highest probability at each time step.\n",
    "\n",
    "**(a) Describe this search strategy in pseudo-code.<span style=\"float:right\"> (1 point)</span>**"
   ]
  },
  {
   "cell_type": "markdown",
   "metadata": {},
   "source": [
    "TODO: Your answer here.\n",
    "```python\n",
    "while next_token != '<eos>':\n",
    "    predict_next_token = net.forward(input, output_so_far)\n",
    "    next_token = max(predict_next_token)\n",
    "    output_so_far.append(next_token)\n",
    "```"
   ]
  },
  {
   "cell_type": "markdown",
   "metadata": {},
   "source": [
    "**(b) Implement a greedy search function to predict a sequence using `net_pos`.<span style=\"float:right\"> (2 points)</span>**"
   ]
  },
  {
   "cell_type": "code",
   "execution_count": 71,
   "metadata": {
    "ExecuteTime": {
     "end_time": "2023-10-07T08:01:25.121097894Z",
     "start_time": "2023-10-07T08:01:25.091998767Z"
    }
   },
   "outputs": [
    {
     "name": "stdout",
     "output_type": "stream",
     "text": [
      "[['2' '4' '6' '<eos>' '<pad>' '<pad>']]\n"
     ]
    }
   ],
   "source": [
    "def predict_greedy(net, src, length):\n",
    "    # predict an output sequence of the given (maximum) length given input string src\n",
    "    with torch.no_grad():\n",
    "        src = torch.tensor(tokenize_and_encode(src, vocab), device=device)\n",
    "        src = src.expand(1, src.shape[0])\n",
    "\n",
    "        a = torch.ones([1, length], device=device, dtype=torch.int32) * vocab['<pad>']\n",
    "\n",
    "        bos = torch.tensor(vocab['<bos>']).expand(a.shape[0], 1)\n",
    "        bos = bos.to(device)\n",
    "        y_prev = torch.cat((bos, a[:, :-1]), axis=1)\n",
    "        for i in range(length - 1):\n",
    "            y_pred = net(src, y_prev)\n",
    "            encoded = torch.argmax(y_pred, dim=-1)\n",
    "            y_prev[:, i + 1] = encoded[:, i]\n",
    "            if encoded[0, i] == vocab['<eos>']:\n",
    "                encoded[0, i + 1:] = vocab['<pad>']\n",
    "                break\n",
    "        return encoded\n",
    "\n",
    "\n",
    "predicted_sequence = predict_greedy(net_pos, '123+123', 6)\n",
    "print(decode_tokens(predicted_sequence))"
   ]
  },
  {
   "cell_type": "markdown",
   "metadata": {},
   "source": [
    "**(c) Does this search strategy give a high-quality prediction? Why, or why not?<span style=\"float:right\"> (1 point)</span>**"
   ]
  },
  {
   "cell_type": "markdown",
   "metadata": {},
   "source": [
    "TODO: Your answer here."
   ]
  },
  {
   "cell_type": "markdown",
   "metadata": {},
   "source": [
    "**(d) What alternative search strategy could we use to improve the predictions? Why would this help?<span style=\"float:right\"> (1 point)</span>**"
   ]
  },
  {
   "cell_type": "markdown",
   "metadata": {},
   "source": [
    "An alternative to Greedy Search is Beam Search. It can improve the prediction quality, because it considers multiple possible paths through the search space, which may lead to a higher certainty of the network over the whole prediction, even if some individual predictions did not have the highest certainty.\n",
    "\n",
    "In theory, we could also use an exhaustive search through all possibilities, but in practice this is not possible given the computational resources."
   ]
  },
  {
   "cell_type": "markdown",
   "metadata": {},
   "source": [
    "## 5.7 Discussion (4 points)\n",
    "\n",
    "Last week, we looked at recurrent neural networks such as the LSTM. Both recurrent neural networks and transformers work with sequences, but in recent years the transformer has become more popular than the recurrent models.\n",
    "\n",
    "**(a) An advantage of transformers over recurrent neural is that they can be faster to train. Why is that?<span style=\"float:right\"> (1 point)</span>**"
   ]
  },
  {
   "cell_type": "markdown",
   "metadata": {},
   "source": [
    "This is because the transformers have a direct connection between the inputs of a sequence, while for training the LSTMs the gradients have to be propagated through a long way. Especially for long sequences, this is a problem.\n",
    "\n",
    "This also leads to the possibility to train transformer networks in parallel, while LSTMs have to be trained sequentially."
   ]
  },
  {
   "cell_type": "markdown",
   "metadata": {},
   "source": [
    "**(b) Does this advantage also hold when predicting outputs for new sequences? Why, or why not?<span style=\"float:right\"> (1 point)</span>**"
   ]
  },
  {
   "cell_type": "markdown",
   "metadata": {},
   "source": [
    "During consumption of the existing data that should be continued, translated, or similar, the transformer can still run in parallel, during the prediction phase, though, both architectures have to run sequentially. This reduces the speed benefit of transformers over LSTMs. "
   ]
  },
  {
   "cell_type": "markdown",
   "metadata": {},
   "source": [
    "**(c) Why is positional encoding often used in transformers, but not in convolutional or recurrent neural networks?<span style=\"float:right\"> (1 point)</span>**"
   ]
  },
  {
   "cell_type": "markdown",
   "metadata": {},
   "source": [
    "A transformer network does not have a sense of order by itself, as it processes all inputs simultaneously. Therefore, it needs these added information as positional encodings.\n",
    "\n",
    "RRNs process a sequences of data as such, i.e., the order of input does matter to these architectures. This makes positional encoding superfluous.\n",
    "\n",
    "Convolutional networks only process data that is close to the target position. The kernel decides on how to weight each position. Therefore, we also do not need a positional encoding in this architecture."
   ]
  },
  {
   "cell_type": "markdown",
   "metadata": {},
   "source": [
    "The structure of a recurrent neural network makes it very suitable for online predictions, such as real-time translation, because it only depends on prior inputs. You can design an architecture where the RNN produces an output token for every input token given to it, and it can produce that output without having to wait for the rest of the input.\n",
    "\n",
    "Note: 'online' means producing outputs continuously as new input comes in, as opposed to collecting a full dataset and analyzing it afterwards, it has nothing to do with the internet.\n",
    "\n",
    "**(d) How would a transformer work in an online application? Do you need to change the architecture?<span style=\"float:right\"> (1 point)</span>**"
   ]
  },
  {
   "cell_type": "markdown",
   "metadata": {},
   "source": [
    "To make a transformer work with online data, it would need to start the whole computation every time it gets a new input, i.e., process everything seen so far plus the new token from the very beginning. This would be very computing intensive.\n",
    "\n",
    "TODO"
   ]
  },
  {
   "cell_type": "markdown",
   "metadata": {},
   "source": [
    "## The end\n",
    "\n",
    "Well done! Please double check the instructions at the top before you submit your results."
   ]
  },
  {
   "cell_type": "markdown",
   "metadata": {},
   "source": [
    "*This assignment has 47 points.*\n",
    "<span style=\"float:right;color:#aaa;font-size:10px;\"> Version 3c66915 / 2023-10-04</span>"
   ]
  }
 ],
 "metadata": {
  "kernelspec": {
   "display_name": "Python 3",
   "language": "python",
   "name": "python3"
  },
  "language_info": {
   "codemirror_mode": {
    "name": "ipython",
    "version": 3
   },
   "file_extension": ".py",
   "mimetype": "text/x-python",
   "name": "python",
   "nbconvert_exporter": "python",
   "pygments_lexer": "ipython3",
   "version": "3.9.2"
  },
  "toc-showmarkdowntxt": false
 },
 "nbformat": 4,
 "nbformat_minor": 4
}
